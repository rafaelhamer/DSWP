{
  "nbformat": 4,
  "nbformat_minor": 0,
  "metadata": {
    "kernelspec": {
      "display_name": "Python 3",
      "language": "python",
      "name": "python3"
    },
    "language_info": {
      "codemirror_mode": {
        "name": "ipython",
        "version": 3
      },
      "file_extension": ".py",
      "mimetype": "text/x-python",
      "name": "python",
      "nbconvert_exporter": "python",
      "pygments_lexer": "ipython3",
      "version": "3.7.6"
    },
    "colab": {
      "name": "Labdata Churn - parte 1.ipynb",
      "provenance": [],
      "collapsed_sections": [],
      "include_colab_link": true
    }
  },
  "cells": [
    {
      "cell_type": "markdown",
      "metadata": {
        "id": "view-in-github",
        "colab_type": "text"
      },
      "source": [
        "<a href=\"https://colab.research.google.com/github/rafaelhamer/DSWP/blob/master/Kaggle_Labdata_Churn_Z1.ipynb\" target=\"_parent\"><img src=\"https://colab.research.google.com/assets/colab-badge.svg\" alt=\"Open In Colab\"/></a>"
      ]
    },
    {
      "cell_type": "code",
      "metadata": {
        "id": "eV8s7G0IyOQ0"
      },
      "source": [
        "!pip install catboost"
      ],
      "execution_count": null,
      "outputs": []
    },
    {
      "cell_type": "code",
      "metadata": {
        "_cell_guid": "b1076dfc-b9ad-4769-8c92-a6c4dae69d19",
        "_uuid": "8f2839f25d086af736a60e9eeb907d3b93b6e0e5",
        "id": "2omvF0WZucn4",
        "outputId": "87457dc0-6d74-494f-a9c2-41204796229c",
        "colab": {
          "base_uri": "https://localhost:8080/"
        }
      },
      "source": [
        "import pandas as pd\n",
        "import numpy as np\n",
        "import seaborn as sns\n",
        "import matplotlib.pyplot as plt\n",
        "#from sklearn.metrics import confusion_matrix # para plotar a confusion matrix\n",
        "from sklearn.metrics import accuracy_score\n",
        "from sklearn.model_selection import train_test_split\n",
        "from catboost import CatBoostClassifier\n",
        "\n",
        "def mostra_missing_value(df):\n",
        "    total = df.isnull().sum().sort_values(ascending = False)\n",
        "    percent = 100*round((df.isnull().sum()/df.isnull().count()).sort_values(ascending = False), 2)\n",
        "    missing_data = pd.concat([total, percent], axis = 1, keys=['Total', 'Percentual'])\n",
        "    print(missing_data.head(10))\n",
        "\n",
        "from google.colab import drive\n",
        "drive.mount('/gdrive')"
      ],
      "execution_count": 40,
      "outputs": [
        {
          "output_type": "stream",
          "text": [
            "Drive already mounted at /gdrive; to attempt to forcibly remount, call drive.mount(\"/gdrive\", force_remount=True).\n"
          ],
          "name": "stdout"
        }
      ]
    },
    {
      "cell_type": "code",
      "metadata": {
        "id": "REseuNwd1eYr"
      },
      "source": [
        "import os\n",
        "for dirname, _, filenames in os.walk('/gdrive/My Drive/Python'):\n",
        "    for filename in filenames:\n",
        "        print(os.path.join(dirname, filename))"
      ],
      "execution_count": null,
      "outputs": []
    },
    {
      "cell_type": "markdown",
      "metadata": {
        "id": "rvjT7uXoucoA"
      },
      "source": [
        "## Lendo os dados de Treino e Teste"
      ]
    },
    {
      "cell_type": "code",
      "metadata": {
        "_cell_guid": "79c7e3d0-c299-4dcb-8224-4455121ee9b0",
        "_uuid": "d629ff2d2480ee46fbb7e2d37f6b5fab8052498a",
        "id": "8KlaexksucoB"
      },
      "source": [
        "df_train = pd.read_csv('/gdrive/My Drive/Python/train.csv')#, index_col='id')\n",
        "df_test  = pd.read_csv('/gdrive/My Drive/Python/test.csv')#, index_col='id')"
      ],
      "execution_count": 33,
      "outputs": []
    },
    {
      "cell_type": "code",
      "metadata": {
        "id": "OnftYwyeucoE",
        "outputId": "59da3d6b-d74f-4fa0-a5fa-fc32fc822800",
        "colab": {
          "base_uri": "https://localhost:8080/",
          "height": 309
        }
      },
      "source": [
        "df_train.head()"
      ],
      "execution_count": 34,
      "outputs": [
        {
          "output_type": "execute_result",
          "data": {
            "text/html": [
              "<div>\n",
              "<style scoped>\n",
              "    .dataframe tbody tr th:only-of-type {\n",
              "        vertical-align: middle;\n",
              "    }\n",
              "\n",
              "    .dataframe tbody tr th {\n",
              "        vertical-align: top;\n",
              "    }\n",
              "\n",
              "    .dataframe thead th {\n",
              "        text-align: right;\n",
              "    }\n",
              "</style>\n",
              "<table border=\"1\" class=\"dataframe\">\n",
              "  <thead>\n",
              "    <tr style=\"text-align: right;\">\n",
              "      <th></th>\n",
              "      <th>id</th>\n",
              "      <th>gender</th>\n",
              "      <th>SeniorCitizen</th>\n",
              "      <th>Partner</th>\n",
              "      <th>Dependents</th>\n",
              "      <th>tenure</th>\n",
              "      <th>PhoneService</th>\n",
              "      <th>MultipleLines</th>\n",
              "      <th>InternetService</th>\n",
              "      <th>OnlineSecurity</th>\n",
              "      <th>OnlineBackup</th>\n",
              "      <th>DeviceProtection</th>\n",
              "      <th>TechSupport</th>\n",
              "      <th>StreamingTV</th>\n",
              "      <th>StreamingMovies</th>\n",
              "      <th>Contract</th>\n",
              "      <th>PaperlessBilling</th>\n",
              "      <th>PaymentMethod</th>\n",
              "      <th>MonthlyCharges</th>\n",
              "      <th>TotalCharges</th>\n",
              "      <th>Churn</th>\n",
              "    </tr>\n",
              "  </thead>\n",
              "  <tbody>\n",
              "    <tr>\n",
              "      <th>0</th>\n",
              "      <td>4030</td>\n",
              "      <td>Female</td>\n",
              "      <td>0</td>\n",
              "      <td>No</td>\n",
              "      <td>No</td>\n",
              "      <td>56.0</td>\n",
              "      <td>No</td>\n",
              "      <td>No phone service</td>\n",
              "      <td>DSL</td>\n",
              "      <td>Yes</td>\n",
              "      <td>Yes</td>\n",
              "      <td>Yes</td>\n",
              "      <td>Yes</td>\n",
              "      <td>No</td>\n",
              "      <td>No</td>\n",
              "      <td>Two year</td>\n",
              "      <td>No</td>\n",
              "      <td>NaN</td>\n",
              "      <td>45.05</td>\n",
              "      <td>2560.1</td>\n",
              "      <td>0</td>\n",
              "    </tr>\n",
              "    <tr>\n",
              "      <th>1</th>\n",
              "      <td>6731</td>\n",
              "      <td>Male</td>\n",
              "      <td>0</td>\n",
              "      <td>Yes</td>\n",
              "      <td>Yes</td>\n",
              "      <td>NaN</td>\n",
              "      <td>Yes</td>\n",
              "      <td>No</td>\n",
              "      <td>No</td>\n",
              "      <td>No internet service</td>\n",
              "      <td>No internet service</td>\n",
              "      <td>No internet service</td>\n",
              "      <td>No internet service</td>\n",
              "      <td>No internet service</td>\n",
              "      <td>No internet service</td>\n",
              "      <td>One year</td>\n",
              "      <td>No</td>\n",
              "      <td>Mailed check</td>\n",
              "      <td>19.65</td>\n",
              "      <td>332.65</td>\n",
              "      <td>0</td>\n",
              "    </tr>\n",
              "    <tr>\n",
              "      <th>2</th>\n",
              "      <td>6479</td>\n",
              "      <td>Female</td>\n",
              "      <td>0</td>\n",
              "      <td>Yes</td>\n",
              "      <td>No</td>\n",
              "      <td>60.0</td>\n",
              "      <td>Yes</td>\n",
              "      <td>Yes</td>\n",
              "      <td>Fiber optic</td>\n",
              "      <td>No</td>\n",
              "      <td>Yes</td>\n",
              "      <td>Yes</td>\n",
              "      <td>Yes</td>\n",
              "      <td>Yes</td>\n",
              "      <td>Yes</td>\n",
              "      <td>Two year</td>\n",
              "      <td>Yes</td>\n",
              "      <td>Credit card (automatic)</td>\n",
              "      <td>110.80</td>\n",
              "      <td>6640.7</td>\n",
              "      <td>0</td>\n",
              "    </tr>\n",
              "    <tr>\n",
              "      <th>3</th>\n",
              "      <td>6861</td>\n",
              "      <td>Female</td>\n",
              "      <td>0</td>\n",
              "      <td>No</td>\n",
              "      <td>No</td>\n",
              "      <td>37.0</td>\n",
              "      <td>Yes</td>\n",
              "      <td>Yes</td>\n",
              "      <td>Fiber optic</td>\n",
              "      <td>No</td>\n",
              "      <td>Yes</td>\n",
              "      <td>Yes</td>\n",
              "      <td>No</td>\n",
              "      <td>Yes</td>\n",
              "      <td>Yes</td>\n",
              "      <td>Month-to-month</td>\n",
              "      <td>Yes</td>\n",
              "      <td>Bank transfer (automatic)</td>\n",
              "      <td>101.90</td>\n",
              "      <td>3545.35</td>\n",
              "      <td>1</td>\n",
              "    </tr>\n",
              "    <tr>\n",
              "      <th>4</th>\n",
              "      <td>3266</td>\n",
              "      <td>Male</td>\n",
              "      <td>0</td>\n",
              "      <td>Yes</td>\n",
              "      <td>Yes</td>\n",
              "      <td>29.0</td>\n",
              "      <td>Yes</td>\n",
              "      <td>No</td>\n",
              "      <td>Fiber optic</td>\n",
              "      <td>No</td>\n",
              "      <td>No</td>\n",
              "      <td>No</td>\n",
              "      <td>No</td>\n",
              "      <td>No</td>\n",
              "      <td>No</td>\n",
              "      <td>Month-to-month</td>\n",
              "      <td>Yes</td>\n",
              "      <td>Electronic check</td>\n",
              "      <td>70.75</td>\n",
              "      <td>1974.8</td>\n",
              "      <td>1</td>\n",
              "    </tr>\n",
              "  </tbody>\n",
              "</table>\n",
              "</div>"
            ],
            "text/plain": [
              "     id  gender  SeniorCitizen  ... MonthlyCharges TotalCharges  Churn\n",
              "0  4030  Female              0  ...          45.05       2560.1      0\n",
              "1  6731    Male              0  ...          19.65       332.65      0\n",
              "2  6479  Female              0  ...         110.80       6640.7      0\n",
              "3  6861  Female              0  ...         101.90      3545.35      1\n",
              "4  3266    Male              0  ...          70.75       1974.8      1\n",
              "\n",
              "[5 rows x 21 columns]"
            ]
          },
          "metadata": {
            "tags": []
          },
          "execution_count": 34
        }
      ]
    },
    {
      "cell_type": "code",
      "metadata": {
        "id": "f4MdMdghu908"
      },
      "source": [
        "df_train.isna().sum()"
      ],
      "execution_count": null,
      "outputs": []
    },
    {
      "cell_type": "code",
      "metadata": {
        "id": "6FNfdqdf4smE"
      },
      "source": [
        "df_train.dtypes"
      ],
      "execution_count": null,
      "outputs": []
    },
    {
      "cell_type": "code",
      "metadata": {
        "id": "-h9uOv8TgDyN"
      },
      "source": [
        "class TrataDataframe():\n",
        "  def __init__(self,df):\n",
        "      self.df = df\n",
        "      self.trata_Pagamentos()\n",
        "      self.trata_Servicos()\n",
        "      self.trata_Dependentes()  \n",
        "      self.trata_MetodoPagamento()\n",
        "\n",
        "  #df_train.drop('gender', axis=1, inplace=True)\n",
        "\n",
        "  def trata_Pagamentos(self):\n",
        "    self.df['TotalCharges'] = self.df['TotalCharges'].str.replace(' ','0.0').astype(np.float64)\n",
        "    self.df['tenure'] = self.df['tenure'].fillna(self.df['TotalCharges'] / self.df['MonthlyCharges'])\n",
        "    self.df.drop('TotalCharges', axis=1, inplace=True)\n",
        "       #self.df['CobrancaTotal'] = pd.to_numeric(self.df['CobrancaTotal'], errors='coerce')\n",
        "       #self.df.loc[np.isnan(self.df[\"CobrancaTotal\"]),\"CobrancaTotal\"] = self.df[\"MesesNaCompanhia\"] * self.df[\"CobrancaMensal\"]\n",
        "\n",
        "  def trata_Servicos(self):\n",
        "    self.df['MultipleLines'] = self.df['MultipleLines'].replace({'No phone service':'No'})\n",
        "    self.df['InternetService'] = self.df['InternetService'].replace({'No internet service':'No'})\n",
        "    self.df['OnlineSecurity'] = self.df['OnlineSecurity'].replace({'No internet service':'No'})\n",
        "    self.df['OnlineBackup'] = self.df['OnlineBackup'].replace({'No internet service':'No'})\n",
        "    self.df['DeviceProtection'] = self.df['DeviceProtection'].replace({'No internet service':'No'})\n",
        "    self.df['TechSupport'] = self.df['TechSupport'].replace({'No internet service':'No'})\n",
        "    self.df['StreamingTV'] = self.df['StreamingTV'].replace({'No internet service':'No'})\n",
        "    self.df['StreamingMovies'] = self.df['StreamingMovies'].replace({'No internet service':'No'})\n",
        "\n",
        "  def trata_Dependentes(self):\n",
        "    self.df['Dependents'].fillna('No', inplace=True)\n",
        "        #self.df.loc[self.df[\"TemDependentes\"].isna(),\"TemDependentes\"] = \"MISS\"\n",
        "        #self.df.loc[(self.df[\"MaisLinhas\"] == 'No') & (self.df[\"TemDependentes\"] == 'MISS'), \"TemDependentes\"] = \"No\"\n",
        "        #self.df.loc[(self.df[\"MaisLinhas\"] == 'Yes') & (self.df[\"TemDependentes\"] == 'MISS'), \"TemDependentes\"] = \"Yes\"\n",
        "        #self.df.loc[np.isnan(self.df[\"TemDependentes\"]),\"TemDependentes\"] = \"MISS\" #poderia atribuir yes para quem tiver mais de uma linha...\n",
        "\n",
        "  def trata_MetodoPagamento(self):\n",
        "    self.df['PaymentMethod'].fillna('MISS', inplace=True)\n",
        "    #self.df['PaymentMethod'].fillna('Electronic check', inplace=True)\n",
        "        #self.df = self.df.dropna(axis = 0, subset = ['MetodoPagamento'])\n",
        "        #self.df.loc[self.df[\"MetodoPagamento\"].isna(),\"MetodoPagamento\"] = \"MISS\"\n",
        "\n",
        "  def getDataFrameDefault(self):\n",
        "        return self.df  \n",
        "\n",
        "  def getDataFrameMelhoresFeatures(self):\n",
        "        ''' retorna o dataframe default, adicionando duas novas colunas (qtdeServicos e vlrMedioPorServico), e igualando \"No\" e \"No internet service\" das colunas relativas a serviços online '''\n",
        "        df2 = self.df.copy()\n",
        "        df2[\"QtdeServicosAdicionaisInternet\"] = 0\n",
        "        df2.loc[df2[\"ServicoSegurancaOnline\"] == \"Yes\",\"QtdeServicosAdicionaisInternet\"] = df2[\"QtdeServicosAdicionaisInternet\"] + 1\n",
        "        df2.loc[df2[\"ServicoBackupOnline\"] == \"Yes\",\"QtdeServicosAdicionaisInternet\"] =  df2[\"QtdeServicosAdicionaisInternet\"] + 1\n",
        "        df2.loc[df2[\"ServicoProtecaoOnline\"] == \"Yes\",\"QtdeServicosAdicionaisInternet\"] =  df2[\"QtdeServicosAdicionaisInternet\"] + 1\n",
        "        df2.loc[df2[\"ServicoSuporteOnline\"] == \"Yes\",\"QtdeServicosAdicionaisInternet\"] = df2[\"QtdeServicosAdicionaisInternet\"] + 1\n",
        "\n",
        "        df2.loc[df2[\"ServicoTV\"] != \"Yes\",\"ServicoTV\"] =  \"No\"\n",
        "        df2.loc[df2[\"ServicoPctFilmes\"] != \"Yes\",\"ServicoPctFilmes\"] = \"No\"\n",
        "        df2[\"QtdeServicosAdicionaisInternet\"] = df2[\"QtdeServicosAdicionaisInternet\"].astype('float')\n",
        "        df2.drop(columns=[\"genero\",\"TemParceiro\",\"TemTelefone\",\"ServicoSegurancaOnline\",\"ServicoBackupOnline\",\"ServicoProtecaoOnline\",\"ServicoSuporteOnline\" ],inplace=True)\n",
        "        return df2         \n",
        "\n",
        "  def getDataFramePrecoMedio(self):\n",
        "        ''' retorna o dataframe default, adicionando duas novas colunas (qtdeServicos e vlrMedioPorServico), e igualando \"No\" e \"No internet service\" das colunas relativas a serviços online '''\n",
        "        df2 = self.df.copy()\n",
        "        df2[\"QtdeServicos\"] = 0\n",
        "        df2.loc[df2[\"TemTelefone\"] == \"Yes\",\"QtdeServicos\"] =  df2[\"QtdeServicos\"] + 1\n",
        "        df2.loc[df2[\"TemInternet\"] != \"No\",\"QtdeServicos\"] =  df2[\"QtdeServicos\"] + 1\n",
        "        df2.loc[df2[\"ServicoTV\"] == \"Yes\",\"QtdeServicos\"] =  df2[\"QtdeServicos\"] + 1\n",
        "        df2.loc[df2[\"ServicoSegurancaOnline\"] == \"Yes\",\"QtdeServicos\"] = df2[\"QtdeServicos\"] + 1\n",
        "        df2.loc[df2[\"ServicoBackupOnline\"] == \"Yes\",\"QtdeServicos\"] =  df2[\"QtdeServicos\"] + 1\n",
        "        df2.loc[df2[\"ServicoProtecaoOnline\"] == \"Yes\",\"QtdeServicos\"] =  df2[\"QtdeServicos\"] + 1\n",
        "        df2.loc[df2[\"ServicoPctFilmes\"] == \"Yes\",\"QtdeServicos\"] = df2[\"QtdeServicos\"] + 1\n",
        "        df2.loc[df2[\"ServicoSuporteOnline\"] == \"Yes\",\"QtdeServicos\"] = df2[\"QtdeServicos\"] + 1\n",
        "\n",
        "        df2.loc[df2[\"ServicoTV\"] != \"Yes\",\"ServicoTV\"] =  \"No\"\n",
        "        df2.loc[df2[\"ServicoSegurancaOnline\"] != \"Yes\",\"ServicoSegurancaOnline\"] = \"No\"\n",
        "        df2.loc[df2[\"ServicoBackupOnline\"] != \"Yes\",\"ServicoBackupOnline\"] =  \"No\"\n",
        "        df2.loc[df2[\"ServicoProtecaoOnline\"] != \"Yes\",\"ServicoProtecaoOnline\"] = \"No\"\n",
        "        df2.loc[df2[\"ServicoPctFilmes\"] != \"Yes\",\"ServicoPctFilmes\"] = \"No\"\n",
        "        df2.loc[df2[\"ServicoSuporteOnline\"] != \"Yes\",\"ServicoSuporteOnline\"] = \"No\"\n",
        "        df2[\"QtdeServicos\"] = df2[\"QtdeServicos\"].astype('float')\n",
        "        df2.drop(columns=[\"TemParceiro\"],inplace=True)\n",
        "        #df2[\"vlrMedioPorServico\"] = df2[\"CobrancaMensal\"] / df2[\"QtdeServicos\"]\n",
        "\n",
        "        return df2  \n",
        "\n",
        "  def getDataFrameServAdicionais(self):\n",
        "        ''' gera um dataframe com as transformações \"padrão\"...e cria uma nova coluna apenas com o indicativo pra saber se há serviços adicionais de internet '''\n",
        "        df2 = self.df.copy()\n",
        "        df2[\"ServicosAdicionaisInternet\"] = \"No\"\n",
        "        df2.loc[df2[\"ServicoSegurancaOnline\"] == \"Yes\",\"ServicosAdicionaisInternet\"] = \"Yes\"\n",
        "        df2.loc[df2[\"ServicoBackupOnline\"] == \"Yes\",\"ServicosAdicionaisInternet\"] =  \"Yes\"\n",
        "        df2.loc[df2[\"ServicoProtecaoOnline\"] == \"Yes\",\"ServicosAdicionaisInternet\"] =  \"Yes\"\n",
        "        df2.loc[df2[\"ServicoPctFilmes\"] == \"Yes\",\"ServicosAdicionaisInternet\"] = \"Yes\"\n",
        "        df2.loc[df2[\"ServicoSuporteOnline\"] == \"Yes\",\"ServicosAdicionaisInternet\"] = \"Yes\"\n",
        "        df2.loc[df2[\"ServicoTV\"] == \"Yes\",\"ServicosAdicionaisInternet\"] = \"Yes\"\n",
        "        #df2.drop(columns = [ \"ServicoSegurancaOnline\",\"ServicoBackupOnline\",\"ServicoSuporteOnline\",\"ServicoProtecaoOnline\",\"ServicoPctFilmes\",\"ServicoTV\"],inplace=True)\n",
        "        df2.drop(columns = [\"TemParceiro\", \"TemDependentes\", \"ServicoSegurancaOnline\",\"ServicoBackupOnline\",\"ServicoSuporteOnline\",\"ServicoProtecaoOnline\",\"ServicoPctFilmes\",\"ServicoTV\"],inplace=True)\n",
        "        return df2\n",
        "\n",
        "  def getDataFrameQtdeServicos(self): #80.37\n",
        "        df2 = self.df.copy()\n",
        "        df2[\"QtdeServicos\"] = 0\n",
        "        df2.loc[df2[\"TemTelefone\"] == \"Yes\",\"QtdeServicos\"] =  df2[\"QtdeServicos\"] + 1\n",
        "        df2.loc[df2[\"TemInternet\"] != \"No\",\"QtdeServicos\"] =  df2[\"QtdeServicos\"] + 1\n",
        "        df2.loc[df2[\"ServicoTV\"] == \"Yes\",\"QtdeServicos\"] =  df2[\"QtdeServicos\"] + 1\n",
        "        df2[\"QtdeServicos\"] = df2[\"QtdeServicos\"].astype('float')\n",
        "        df2.drop(columns = [\"TemTelefone\",\"TemInternet\",\"ServicoTV\"],inplace=True)\n",
        "        return df2          \n",
        "\n",
        "  def getDataFrameQtdeServicos2(self): \n",
        "        df2 = self.df.copy()\n",
        "        df2[\"QtdeServicos\"] = 0\n",
        "        df2[\"QtdeServicosAdicionais\"] = 0\n",
        "        df2.loc[df2[\"TemTelefone\"] == \"Yes\",\"QtdeServicos\"] =  df2[\"QtdeServicos\"] + 1\n",
        "        df2.loc[df2[\"TemInternet\"] != \"No\",\"QtdeServicos\"] =  df2[\"QtdeServicos\"] + 1\n",
        "        df2.loc[df2[\"ServicoTV\"] == \"Yes\",\"QtdeServicos\"] =  df2[\"QtdeServicos\"] + 1\n",
        "        df2.loc[df2[\"ServicoSegurancaOnline\"] == \"Yes\",\"QtdeServicosAdicionais\"] =  df2[\"QtdeServicosAdicionais\"] + 1\n",
        "        df2.loc[df2[\"ServicoBackupOnline\"] == \"Yes\",\"QtdeServicosAdicionais\"] =  df2[\"QtdeServicosAdicionais\"] + 1\n",
        "        df2.loc[df2[\"ServicoProtecaoOnline\"] == \"Yes\",\"QtdeServicosAdicionais\"] =  df2[\"QtdeServicosAdicionais\"] + 1\n",
        "        df2.loc[df2[\"ServicoPctFilmes\"] == \"Yes\",\"QtdeServicosAdicionais\"] =  df2[\"QtdeServicosAdicionais\"] + 1\n",
        "        df2.loc[df2[\"ServicoSuporteOnline\"] == \"Yes\",\"QtdeServicosAdicionais\"] =  df2[\"QtdeServicosAdicionais\"] + 1\n",
        "        df2[\"QtdeServicos\"] = df2[\"QtdeServicos\"].astype('float')\n",
        "        df2[\"QtdeServicosAdicionais\"] = df2[\"QtdeServicosAdicionais\"].astype('float')\n",
        "        df2.drop(columns = [\"TemTelefone\",\"TemInternet\",\"ServicoTV\",\"ServicoSegurancaOnline\",\"ServicoBackupOnline\",\"ServicoSuporteOnline\",\"ServicoProtecaoOnline\",\"ServicoPctFilmes\"],inplace=True)\n",
        "        return df2          \n"
      ],
      "execution_count": 5,
      "outputs": []
    },
    {
      "cell_type": "code",
      "metadata": {
        "id": "nzySOo2zx7s5"
      },
      "source": [
        "def treina_testa(ts=0.30, it=300, lr=0.03, depth=5, gerarArquivo=False, mostrarFI=False):\n",
        "   X_treinamento, X_teste, y_treinamento, y_teste = train_test_split(preditoras, target, test_size = ts)#, random_state = i_Seed)\n",
        "   catb = CatBoostClassifier(iterations=it, learning_rate=lr, depth=depth, silent=True)\n",
        "   catb_tuned = catb.fit(X_treinamento, y_treinamento, cat_features=categorical_features_indices)\n",
        "   y_pred = catb_tuned.predict(X_teste)\n",
        "   acc_catb = round(accuracy_score(y_pred, y_teste) * 100, 2)\n",
        "   #print('ts: {} it: {} lr: {} depth: {} -> '.format(ts,it,lr,depth)+'Train Data Success Score: %' + str(acc_catb))\n",
        "   \n",
        "   if (mostrarFI == True):\n",
        "      l_fi = list(zip(catb_tuned.feature_importances_,X_treinamento.columns))\n",
        "      l_fi.sort(reverse=True)\n",
        "      for tupla in l_fi:\n",
        "        print(tupla)\n",
        "\n",
        "   if (gerarArquivo == True):\n",
        "      df_id = df_testeTratado[[\"id\"]]\n",
        "      df_teste3 = df_testeTratado.drop(columns=[\"id\"])\n",
        "      resposta = catb_tuned.predict(df_teste3)\n",
        "      resposta_df = pd.DataFrame(resposta, columns=['Churn'])\n",
        "      resultado_submissao = pd.concat([df_id, resposta_df],axis=1)\n",
        "      resultado_submissao.head().T\n",
        "      filename = 'submissao_kaggle_catb_fs_ts0{}_it{}_lr{}_depth{}_sc{}.csv'.format(round(ts*100,0),it, lr, depth,str(int(acc_catb*100)))\n",
        "      resultado_submissao.to_csv(filename, index=False)   \n",
        "      print(filename)\n",
        "   \n",
        "   return acc_catb"
      ],
      "execution_count": 47,
      "outputs": []
    },
    {
      "cell_type": "code",
      "metadata": {
        "id": "XwLEdeoGrJnz",
        "outputId": "694c1a1e-80ca-4263-de0d-b66c21ceb042",
        "colab": {
          "base_uri": "https://localhost:8080/",
          "height": 292
        }
      },
      "source": [
        "df_train = TrataDataframe(df_train).getDataFrameDefault()\n",
        "df_train.head()"
      ],
      "execution_count": 35,
      "outputs": [
        {
          "output_type": "execute_result",
          "data": {
            "text/html": [
              "<div>\n",
              "<style scoped>\n",
              "    .dataframe tbody tr th:only-of-type {\n",
              "        vertical-align: middle;\n",
              "    }\n",
              "\n",
              "    .dataframe tbody tr th {\n",
              "        vertical-align: top;\n",
              "    }\n",
              "\n",
              "    .dataframe thead th {\n",
              "        text-align: right;\n",
              "    }\n",
              "</style>\n",
              "<table border=\"1\" class=\"dataframe\">\n",
              "  <thead>\n",
              "    <tr style=\"text-align: right;\">\n",
              "      <th></th>\n",
              "      <th>id</th>\n",
              "      <th>gender</th>\n",
              "      <th>SeniorCitizen</th>\n",
              "      <th>Partner</th>\n",
              "      <th>Dependents</th>\n",
              "      <th>tenure</th>\n",
              "      <th>PhoneService</th>\n",
              "      <th>MultipleLines</th>\n",
              "      <th>InternetService</th>\n",
              "      <th>OnlineSecurity</th>\n",
              "      <th>OnlineBackup</th>\n",
              "      <th>DeviceProtection</th>\n",
              "      <th>TechSupport</th>\n",
              "      <th>StreamingTV</th>\n",
              "      <th>StreamingMovies</th>\n",
              "      <th>Contract</th>\n",
              "      <th>PaperlessBilling</th>\n",
              "      <th>PaymentMethod</th>\n",
              "      <th>MonthlyCharges</th>\n",
              "      <th>Churn</th>\n",
              "    </tr>\n",
              "  </thead>\n",
              "  <tbody>\n",
              "    <tr>\n",
              "      <th>0</th>\n",
              "      <td>4030</td>\n",
              "      <td>Female</td>\n",
              "      <td>0</td>\n",
              "      <td>No</td>\n",
              "      <td>No</td>\n",
              "      <td>56.000000</td>\n",
              "      <td>No</td>\n",
              "      <td>No</td>\n",
              "      <td>DSL</td>\n",
              "      <td>Yes</td>\n",
              "      <td>Yes</td>\n",
              "      <td>Yes</td>\n",
              "      <td>Yes</td>\n",
              "      <td>No</td>\n",
              "      <td>No</td>\n",
              "      <td>Two year</td>\n",
              "      <td>No</td>\n",
              "      <td>Electronic check</td>\n",
              "      <td>45.05</td>\n",
              "      <td>0</td>\n",
              "    </tr>\n",
              "    <tr>\n",
              "      <th>1</th>\n",
              "      <td>6731</td>\n",
              "      <td>Male</td>\n",
              "      <td>0</td>\n",
              "      <td>Yes</td>\n",
              "      <td>Yes</td>\n",
              "      <td>16.928753</td>\n",
              "      <td>Yes</td>\n",
              "      <td>No</td>\n",
              "      <td>No</td>\n",
              "      <td>No</td>\n",
              "      <td>No</td>\n",
              "      <td>No</td>\n",
              "      <td>No</td>\n",
              "      <td>No</td>\n",
              "      <td>No</td>\n",
              "      <td>One year</td>\n",
              "      <td>No</td>\n",
              "      <td>Mailed check</td>\n",
              "      <td>19.65</td>\n",
              "      <td>0</td>\n",
              "    </tr>\n",
              "    <tr>\n",
              "      <th>2</th>\n",
              "      <td>6479</td>\n",
              "      <td>Female</td>\n",
              "      <td>0</td>\n",
              "      <td>Yes</td>\n",
              "      <td>No</td>\n",
              "      <td>60.000000</td>\n",
              "      <td>Yes</td>\n",
              "      <td>Yes</td>\n",
              "      <td>Fiber optic</td>\n",
              "      <td>No</td>\n",
              "      <td>Yes</td>\n",
              "      <td>Yes</td>\n",
              "      <td>Yes</td>\n",
              "      <td>Yes</td>\n",
              "      <td>Yes</td>\n",
              "      <td>Two year</td>\n",
              "      <td>Yes</td>\n",
              "      <td>Credit card (automatic)</td>\n",
              "      <td>110.80</td>\n",
              "      <td>0</td>\n",
              "    </tr>\n",
              "    <tr>\n",
              "      <th>3</th>\n",
              "      <td>6861</td>\n",
              "      <td>Female</td>\n",
              "      <td>0</td>\n",
              "      <td>No</td>\n",
              "      <td>No</td>\n",
              "      <td>37.000000</td>\n",
              "      <td>Yes</td>\n",
              "      <td>Yes</td>\n",
              "      <td>Fiber optic</td>\n",
              "      <td>No</td>\n",
              "      <td>Yes</td>\n",
              "      <td>Yes</td>\n",
              "      <td>No</td>\n",
              "      <td>Yes</td>\n",
              "      <td>Yes</td>\n",
              "      <td>Month-to-month</td>\n",
              "      <td>Yes</td>\n",
              "      <td>Bank transfer (automatic)</td>\n",
              "      <td>101.90</td>\n",
              "      <td>1</td>\n",
              "    </tr>\n",
              "    <tr>\n",
              "      <th>4</th>\n",
              "      <td>3266</td>\n",
              "      <td>Male</td>\n",
              "      <td>0</td>\n",
              "      <td>Yes</td>\n",
              "      <td>Yes</td>\n",
              "      <td>29.000000</td>\n",
              "      <td>Yes</td>\n",
              "      <td>No</td>\n",
              "      <td>Fiber optic</td>\n",
              "      <td>No</td>\n",
              "      <td>No</td>\n",
              "      <td>No</td>\n",
              "      <td>No</td>\n",
              "      <td>No</td>\n",
              "      <td>No</td>\n",
              "      <td>Month-to-month</td>\n",
              "      <td>Yes</td>\n",
              "      <td>Electronic check</td>\n",
              "      <td>70.75</td>\n",
              "      <td>1</td>\n",
              "    </tr>\n",
              "  </tbody>\n",
              "</table>\n",
              "</div>"
            ],
            "text/plain": [
              "     id  gender  ...  MonthlyCharges Churn\n",
              "0  4030  Female  ...           45.05     0\n",
              "1  6731    Male  ...           19.65     0\n",
              "2  6479  Female  ...          110.80     0\n",
              "3  6861  Female  ...          101.90     1\n",
              "4  3266    Male  ...           70.75     1\n",
              "\n",
              "[5 rows x 20 columns]"
            ]
          },
          "metadata": {
            "tags": []
          },
          "execution_count": 35
        }
      ]
    },
    {
      "cell_type": "code",
      "metadata": {
        "id": "HhRQCI2lqAfb",
        "outputId": "2a1565b0-035b-4caa-ac93-4918b4f25463",
        "colab": {
          "base_uri": "https://localhost:8080/",
          "height": 292
        }
      },
      "source": [
        "df_test = TrataDataframe(df_test).getDataFrameDefault()\n",
        "df_test.head()"
      ],
      "execution_count": 36,
      "outputs": [
        {
          "output_type": "execute_result",
          "data": {
            "text/html": [
              "<div>\n",
              "<style scoped>\n",
              "    .dataframe tbody tr th:only-of-type {\n",
              "        vertical-align: middle;\n",
              "    }\n",
              "\n",
              "    .dataframe tbody tr th {\n",
              "        vertical-align: top;\n",
              "    }\n",
              "\n",
              "    .dataframe thead th {\n",
              "        text-align: right;\n",
              "    }\n",
              "</style>\n",
              "<table border=\"1\" class=\"dataframe\">\n",
              "  <thead>\n",
              "    <tr style=\"text-align: right;\">\n",
              "      <th></th>\n",
              "      <th>id</th>\n",
              "      <th>gender</th>\n",
              "      <th>SeniorCitizen</th>\n",
              "      <th>Partner</th>\n",
              "      <th>Dependents</th>\n",
              "      <th>tenure</th>\n",
              "      <th>PhoneService</th>\n",
              "      <th>MultipleLines</th>\n",
              "      <th>InternetService</th>\n",
              "      <th>OnlineSecurity</th>\n",
              "      <th>OnlineBackup</th>\n",
              "      <th>DeviceProtection</th>\n",
              "      <th>TechSupport</th>\n",
              "      <th>StreamingTV</th>\n",
              "      <th>StreamingMovies</th>\n",
              "      <th>Contract</th>\n",
              "      <th>PaperlessBilling</th>\n",
              "      <th>PaymentMethod</th>\n",
              "      <th>MonthlyCharges</th>\n",
              "    </tr>\n",
              "  </thead>\n",
              "  <tbody>\n",
              "    <tr>\n",
              "      <th>0</th>\n",
              "      <td>5027</td>\n",
              "      <td>Male</td>\n",
              "      <td>0</td>\n",
              "      <td>Yes</td>\n",
              "      <td>Yes</td>\n",
              "      <td>23.0</td>\n",
              "      <td>Yes</td>\n",
              "      <td>No</td>\n",
              "      <td>No</td>\n",
              "      <td>No</td>\n",
              "      <td>No</td>\n",
              "      <td>No</td>\n",
              "      <td>No</td>\n",
              "      <td>No</td>\n",
              "      <td>No</td>\n",
              "      <td>One year</td>\n",
              "      <td>Yes</td>\n",
              "      <td>Credit card (automatic)</td>\n",
              "      <td>20.00</td>\n",
              "    </tr>\n",
              "    <tr>\n",
              "      <th>1</th>\n",
              "      <td>1733</td>\n",
              "      <td>Male</td>\n",
              "      <td>1</td>\n",
              "      <td>Yes</td>\n",
              "      <td>Yes</td>\n",
              "      <td>61.0</td>\n",
              "      <td>Yes</td>\n",
              "      <td>Yes</td>\n",
              "      <td>Fiber optic</td>\n",
              "      <td>No</td>\n",
              "      <td>Yes</td>\n",
              "      <td>No</td>\n",
              "      <td>No</td>\n",
              "      <td>Yes</td>\n",
              "      <td>Yes</td>\n",
              "      <td>One year</td>\n",
              "      <td>No</td>\n",
              "      <td>Electronic check</td>\n",
              "      <td>99.00</td>\n",
              "    </tr>\n",
              "    <tr>\n",
              "      <th>2</th>\n",
              "      <td>5384</td>\n",
              "      <td>Male</td>\n",
              "      <td>0</td>\n",
              "      <td>No</td>\n",
              "      <td>No</td>\n",
              "      <td>36.0</td>\n",
              "      <td>Yes</td>\n",
              "      <td>Yes</td>\n",
              "      <td>Fiber optic</td>\n",
              "      <td>No</td>\n",
              "      <td>No</td>\n",
              "      <td>No</td>\n",
              "      <td>No</td>\n",
              "      <td>No</td>\n",
              "      <td>Yes</td>\n",
              "      <td>Month-to-month</td>\n",
              "      <td>Yes</td>\n",
              "      <td>Electronic check</td>\n",
              "      <td>84.75</td>\n",
              "    </tr>\n",
              "    <tr>\n",
              "      <th>3</th>\n",
              "      <td>6554</td>\n",
              "      <td>Female</td>\n",
              "      <td>0</td>\n",
              "      <td>Yes</td>\n",
              "      <td>Yes</td>\n",
              "      <td>61.0</td>\n",
              "      <td>No</td>\n",
              "      <td>No</td>\n",
              "      <td>DSL</td>\n",
              "      <td>No</td>\n",
              "      <td>Yes</td>\n",
              "      <td>Yes</td>\n",
              "      <td>Yes</td>\n",
              "      <td>Yes</td>\n",
              "      <td>Yes</td>\n",
              "      <td>Two year</td>\n",
              "      <td>Yes</td>\n",
              "      <td>Bank transfer (automatic)</td>\n",
              "      <td>61.45</td>\n",
              "    </tr>\n",
              "    <tr>\n",
              "      <th>4</th>\n",
              "      <td>364</td>\n",
              "      <td>Female</td>\n",
              "      <td>0</td>\n",
              "      <td>No</td>\n",
              "      <td>No</td>\n",
              "      <td>47.0</td>\n",
              "      <td>Yes</td>\n",
              "      <td>No</td>\n",
              "      <td>No</td>\n",
              "      <td>No</td>\n",
              "      <td>No</td>\n",
              "      <td>No</td>\n",
              "      <td>No</td>\n",
              "      <td>No</td>\n",
              "      <td>No</td>\n",
              "      <td>Two year</td>\n",
              "      <td>Yes</td>\n",
              "      <td>Mailed check</td>\n",
              "      <td>20.55</td>\n",
              "    </tr>\n",
              "  </tbody>\n",
              "</table>\n",
              "</div>"
            ],
            "text/plain": [
              "     id  gender  ...              PaymentMethod MonthlyCharges\n",
              "0  5027    Male  ...    Credit card (automatic)          20.00\n",
              "1  1733    Male  ...           Electronic check          99.00\n",
              "2  5384    Male  ...           Electronic check          84.75\n",
              "3  6554  Female  ...  Bank transfer (automatic)          61.45\n",
              "4   364  Female  ...               Mailed check          20.55\n",
              "\n",
              "[5 rows x 19 columns]"
            ]
          },
          "metadata": {
            "tags": []
          },
          "execution_count": 36
        }
      ]
    },
    {
      "cell_type": "code",
      "metadata": {
        "id": "CGNiWSHoVj0o",
        "outputId": "dbec77af-0e62-43f5-ed81-d4fd0495ee28",
        "colab": {
          "base_uri": "https://localhost:8080/"
        }
      },
      "source": [
        "df_train[['Churn','gender']].value_counts()"
      ],
      "execution_count": 26,
      "outputs": [
        {
          "output_type": "execute_result",
          "data": {
            "text/plain": [
              "Churn  gender\n",
              "0      Male      2094\n",
              "       Female    2045\n",
              "1      Male       755\n",
              "       Female     740\n",
              "dtype: int64"
            ]
          },
          "metadata": {
            "tags": []
          },
          "execution_count": 26
        }
      ]
    },
    {
      "cell_type": "code",
      "metadata": {
        "id": "kwQsmgiWXMJG"
      },
      "source": [
        "df_train[['OnlineSecurity','OnlineBackup','DeviceProtection','TechSupport','StreamingTV','StreamingMovies']].value_counts()"
      ],
      "execution_count": null,
      "outputs": []
    },
    {
      "cell_type": "code",
      "metadata": {
        "id": "OHQOVu1iucoH"
      },
      "source": [
        "mostra_missing_value(df_train)"
      ],
      "execution_count": null,
      "outputs": []
    },
    {
      "cell_type": "code",
      "metadata": {
        "id": "mkrkkeyOqBPC"
      },
      "source": [
        "mostra_missing_value(df_test)"
      ],
      "execution_count": null,
      "outputs": []
    },
    {
      "cell_type": "code",
      "metadata": {
        "id": "YCWtGxcj60rA",
        "outputId": "a30449af-12d0-495e-e3a3-d7d5eb147b61",
        "colab": {
          "base_uri": "https://localhost:8080/"
        }
      },
      "source": [
        "df_train['PaymentMethod'].value_counts()"
      ],
      "execution_count": 51,
      "outputs": [
        {
          "output_type": "execute_result",
          "data": {
            "text/plain": [
              "Electronic check             1986\n",
              "Mailed check                 1272\n",
              "Bank transfer (automatic)    1212\n",
              "Credit card (automatic)      1164\n",
              "Name: PaymentMethod, dtype: int64"
            ]
          },
          "metadata": {
            "tags": []
          },
          "execution_count": 51
        }
      ]
    },
    {
      "cell_type": "code",
      "metadata": {
        "id": "P7Yq7zCPwZLy",
        "outputId": "53410aee-667f-422b-c0a1-179f4251cd67",
        "colab": {
          "base_uri": "https://localhost:8080/"
        }
      },
      "source": [
        "preditoras = df_train.copy()\n",
        "preditoras.drop(columns=[\"Churn\",\"id\"],inplace=True)\n",
        "target = df_train[\"Churn\"]\n",
        "categorical_features_indices = np.where(preditoras.dtypes != np.float)[0] #considerei todas as features que não são do tipo \"flutuante\" como categóricas\n",
        "print(f\"Qtde de features categóricas: {len(categorical_features_indices)}\")\n",
        "print(f\"Colunas preditoras: {preditoras.columns}\")\n",
        "\n",
        "acc = treina_testa(mostrarFI=True)\n",
        "print(f\"acc: {acc}\")"
      ],
      "execution_count": 49,
      "outputs": [
        {
          "output_type": "stream",
          "text": [
            "Qtde de features categóricas: 16\n",
            "Colunas preditoras: Index(['gender', 'SeniorCitizen', 'Partner', 'Dependents', 'tenure',\n",
            "       'PhoneService', 'MultipleLines', 'InternetService', 'OnlineSecurity',\n",
            "       'OnlineBackup', 'DeviceProtection', 'TechSupport', 'StreamingTV',\n",
            "       'StreamingMovies', 'Contract', 'PaperlessBilling', 'PaymentMethod',\n",
            "       'MonthlyCharges'],\n",
            "      dtype='object')\n",
            "(29.391066633447178, 'Contract')\n",
            "(18.768888398736426, 'tenure')\n",
            "(16.33962461513858, 'InternetService')\n",
            "(9.983454695789037, 'MonthlyCharges')\n",
            "(5.300840836499578, 'PaymentMethod')\n",
            "(4.2916165851554124, 'PaperlessBilling')\n",
            "(3.284891862306668, 'OnlineSecurity')\n",
            "(2.060142700167638, 'TechSupport')\n",
            "(1.9250265792008519, 'StreamingMovies')\n",
            "(1.7403333934946952, 'PhoneService')\n",
            "(1.4243253243087683, 'SeniorCitizen')\n",
            "(1.2717783345196425, 'StreamingTV')\n",
            "(1.1503094454092406, 'Dependents')\n",
            "(1.0037830158810312, 'MultipleLines')\n",
            "(0.8397576754574879, 'OnlineBackup')\n",
            "(0.5716690721409206, 'Partner')\n",
            "(0.4237537906234347, 'DeviceProtection')\n",
            "(0.2287370417234459, 'gender')\n",
            "acc: 80.37\n"
          ],
          "name": "stdout"
        }
      ]
    },
    {
      "cell_type": "markdown",
      "metadata": {
        "id": "z1Jm6clmucoN"
      },
      "source": [
        "## Transformando variáveis categóricas com `LabelEncoder`"
      ]
    },
    {
      "cell_type": "code",
      "metadata": {
        "id": "DSaaKHU2ry9d"
      },
      "source": [
        "from sklearn.preprocessing import LabelEncoder\n",
        "\n",
        "for cat_var in df_train.select_dtypes(include='O').columns:\n",
        "    le = LabelEncoder()\n",
        "    le.fit(df_train[cat_var])\n",
        "    df_train[cat_var + '_num'] = le.transform(df_train[cat_var])\n",
        "    df_train.drop(cat_var, axis=1, inplace=True)\n",
        "    df_test[cat_var + '_num'] = le.transform(df_test[cat_var])\n",
        "    df_test.drop(cat_var, axis=1, inplace=True)\n",
        "\n",
        "df_train.head()"
      ],
      "execution_count": null,
      "outputs": []
    },
    {
      "cell_type": "code",
      "metadata": {
        "id": "C9D-qnUBucoR",
        "outputId": "03654b2e-56dd-4729-a215-ef3564a75351",
        "colab": {
          "base_uri": "https://localhost:8080/",
          "height": 292
        }
      },
      "source": [
        ""
      ],
      "execution_count": 50,
      "outputs": [
        {
          "output_type": "execute_result",
          "data": {
            "text/html": [
              "<div>\n",
              "<style scoped>\n",
              "    .dataframe tbody tr th:only-of-type {\n",
              "        vertical-align: middle;\n",
              "    }\n",
              "\n",
              "    .dataframe tbody tr th {\n",
              "        vertical-align: top;\n",
              "    }\n",
              "\n",
              "    .dataframe thead th {\n",
              "        text-align: right;\n",
              "    }\n",
              "</style>\n",
              "<table border=\"1\" class=\"dataframe\">\n",
              "  <thead>\n",
              "    <tr style=\"text-align: right;\">\n",
              "      <th></th>\n",
              "      <th>id</th>\n",
              "      <th>gender</th>\n",
              "      <th>SeniorCitizen</th>\n",
              "      <th>Partner</th>\n",
              "      <th>Dependents</th>\n",
              "      <th>tenure</th>\n",
              "      <th>PhoneService</th>\n",
              "      <th>MultipleLines</th>\n",
              "      <th>InternetService</th>\n",
              "      <th>OnlineSecurity</th>\n",
              "      <th>OnlineBackup</th>\n",
              "      <th>DeviceProtection</th>\n",
              "      <th>TechSupport</th>\n",
              "      <th>StreamingTV</th>\n",
              "      <th>StreamingMovies</th>\n",
              "      <th>Contract</th>\n",
              "      <th>PaperlessBilling</th>\n",
              "      <th>PaymentMethod</th>\n",
              "      <th>MonthlyCharges</th>\n",
              "      <th>Churn</th>\n",
              "    </tr>\n",
              "  </thead>\n",
              "  <tbody>\n",
              "    <tr>\n",
              "      <th>0</th>\n",
              "      <td>4030</td>\n",
              "      <td>Female</td>\n",
              "      <td>0</td>\n",
              "      <td>No</td>\n",
              "      <td>No</td>\n",
              "      <td>56.000000</td>\n",
              "      <td>No</td>\n",
              "      <td>No</td>\n",
              "      <td>DSL</td>\n",
              "      <td>Yes</td>\n",
              "      <td>Yes</td>\n",
              "      <td>Yes</td>\n",
              "      <td>Yes</td>\n",
              "      <td>No</td>\n",
              "      <td>No</td>\n",
              "      <td>Two year</td>\n",
              "      <td>No</td>\n",
              "      <td>Electronic check</td>\n",
              "      <td>45.05</td>\n",
              "      <td>0</td>\n",
              "    </tr>\n",
              "    <tr>\n",
              "      <th>1</th>\n",
              "      <td>6731</td>\n",
              "      <td>Male</td>\n",
              "      <td>0</td>\n",
              "      <td>Yes</td>\n",
              "      <td>Yes</td>\n",
              "      <td>16.928753</td>\n",
              "      <td>Yes</td>\n",
              "      <td>No</td>\n",
              "      <td>No</td>\n",
              "      <td>No</td>\n",
              "      <td>No</td>\n",
              "      <td>No</td>\n",
              "      <td>No</td>\n",
              "      <td>No</td>\n",
              "      <td>No</td>\n",
              "      <td>One year</td>\n",
              "      <td>No</td>\n",
              "      <td>Mailed check</td>\n",
              "      <td>19.65</td>\n",
              "      <td>0</td>\n",
              "    </tr>\n",
              "    <tr>\n",
              "      <th>2</th>\n",
              "      <td>6479</td>\n",
              "      <td>Female</td>\n",
              "      <td>0</td>\n",
              "      <td>Yes</td>\n",
              "      <td>No</td>\n",
              "      <td>60.000000</td>\n",
              "      <td>Yes</td>\n",
              "      <td>Yes</td>\n",
              "      <td>Fiber optic</td>\n",
              "      <td>No</td>\n",
              "      <td>Yes</td>\n",
              "      <td>Yes</td>\n",
              "      <td>Yes</td>\n",
              "      <td>Yes</td>\n",
              "      <td>Yes</td>\n",
              "      <td>Two year</td>\n",
              "      <td>Yes</td>\n",
              "      <td>Credit card (automatic)</td>\n",
              "      <td>110.80</td>\n",
              "      <td>0</td>\n",
              "    </tr>\n",
              "    <tr>\n",
              "      <th>3</th>\n",
              "      <td>6861</td>\n",
              "      <td>Female</td>\n",
              "      <td>0</td>\n",
              "      <td>No</td>\n",
              "      <td>No</td>\n",
              "      <td>37.000000</td>\n",
              "      <td>Yes</td>\n",
              "      <td>Yes</td>\n",
              "      <td>Fiber optic</td>\n",
              "      <td>No</td>\n",
              "      <td>Yes</td>\n",
              "      <td>Yes</td>\n",
              "      <td>No</td>\n",
              "      <td>Yes</td>\n",
              "      <td>Yes</td>\n",
              "      <td>Month-to-month</td>\n",
              "      <td>Yes</td>\n",
              "      <td>Bank transfer (automatic)</td>\n",
              "      <td>101.90</td>\n",
              "      <td>1</td>\n",
              "    </tr>\n",
              "    <tr>\n",
              "      <th>4</th>\n",
              "      <td>3266</td>\n",
              "      <td>Male</td>\n",
              "      <td>0</td>\n",
              "      <td>Yes</td>\n",
              "      <td>Yes</td>\n",
              "      <td>29.000000</td>\n",
              "      <td>Yes</td>\n",
              "      <td>No</td>\n",
              "      <td>Fiber optic</td>\n",
              "      <td>No</td>\n",
              "      <td>No</td>\n",
              "      <td>No</td>\n",
              "      <td>No</td>\n",
              "      <td>No</td>\n",
              "      <td>No</td>\n",
              "      <td>Month-to-month</td>\n",
              "      <td>Yes</td>\n",
              "      <td>Electronic check</td>\n",
              "      <td>70.75</td>\n",
              "      <td>1</td>\n",
              "    </tr>\n",
              "  </tbody>\n",
              "</table>\n",
              "</div>"
            ],
            "text/plain": [
              "     id  gender  ...  MonthlyCharges Churn\n",
              "0  4030  Female  ...           45.05     0\n",
              "1  6731    Male  ...           19.65     0\n",
              "2  6479  Female  ...          110.80     0\n",
              "3  6861  Female  ...          101.90     1\n",
              "4  3266    Male  ...           70.75     1\n",
              "\n",
              "[5 rows x 20 columns]"
            ]
          },
          "metadata": {
            "tags": []
          },
          "execution_count": 50
        }
      ]
    },
    {
      "cell_type": "code",
      "metadata": {
        "id": "KZGRzOKSucoU",
        "outputId": "8e9f4031-6ead-49f3-bd63-9e9d3d871b5c",
        "colab": {
          "base_uri": "https://localhost:8080/",
          "height": 255
        }
      },
      "source": [
        "df_test.head()"
      ],
      "execution_count": null,
      "outputs": [
        {
          "output_type": "execute_result",
          "data": {
            "text/html": [
              "<div>\n",
              "<style scoped>\n",
              "    .dataframe tbody tr th:only-of-type {\n",
              "        vertical-align: middle;\n",
              "    }\n",
              "\n",
              "    .dataframe tbody tr th {\n",
              "        vertical-align: top;\n",
              "    }\n",
              "\n",
              "    .dataframe thead th {\n",
              "        text-align: right;\n",
              "    }\n",
              "</style>\n",
              "<table border=\"1\" class=\"dataframe\">\n",
              "  <thead>\n",
              "    <tr style=\"text-align: right;\">\n",
              "      <th></th>\n",
              "      <th>SeniorCitizen</th>\n",
              "      <th>tenure</th>\n",
              "      <th>MonthlyCharges</th>\n",
              "      <th>gender_num</th>\n",
              "      <th>Partner_num</th>\n",
              "      <th>Dependents_num</th>\n",
              "      <th>PhoneService_num</th>\n",
              "      <th>MultipleLines_num</th>\n",
              "      <th>InternetService_num</th>\n",
              "      <th>OnlineSecurity_num</th>\n",
              "      <th>OnlineBackup_num</th>\n",
              "      <th>DeviceProtection_num</th>\n",
              "      <th>TechSupport_num</th>\n",
              "      <th>StreamingTV_num</th>\n",
              "      <th>StreamingMovies_num</th>\n",
              "      <th>Contract_num</th>\n",
              "      <th>PaperlessBilling_num</th>\n",
              "      <th>PaymentMethod_num</th>\n",
              "    </tr>\n",
              "    <tr>\n",
              "      <th>id</th>\n",
              "      <th></th>\n",
              "      <th></th>\n",
              "      <th></th>\n",
              "      <th></th>\n",
              "      <th></th>\n",
              "      <th></th>\n",
              "      <th></th>\n",
              "      <th></th>\n",
              "      <th></th>\n",
              "      <th></th>\n",
              "      <th></th>\n",
              "      <th></th>\n",
              "      <th></th>\n",
              "      <th></th>\n",
              "      <th></th>\n",
              "      <th></th>\n",
              "      <th></th>\n",
              "      <th></th>\n",
              "    </tr>\n",
              "  </thead>\n",
              "  <tbody>\n",
              "    <tr>\n",
              "      <th>5027</th>\n",
              "      <td>0</td>\n",
              "      <td>23.0</td>\n",
              "      <td>20.00</td>\n",
              "      <td>1</td>\n",
              "      <td>1</td>\n",
              "      <td>1</td>\n",
              "      <td>1</td>\n",
              "      <td>0</td>\n",
              "      <td>2</td>\n",
              "      <td>0</td>\n",
              "      <td>0</td>\n",
              "      <td>0</td>\n",
              "      <td>0</td>\n",
              "      <td>0</td>\n",
              "      <td>0</td>\n",
              "      <td>1</td>\n",
              "      <td>1</td>\n",
              "      <td>1</td>\n",
              "    </tr>\n",
              "    <tr>\n",
              "      <th>1733</th>\n",
              "      <td>1</td>\n",
              "      <td>61.0</td>\n",
              "      <td>99.00</td>\n",
              "      <td>1</td>\n",
              "      <td>1</td>\n",
              "      <td>1</td>\n",
              "      <td>1</td>\n",
              "      <td>1</td>\n",
              "      <td>1</td>\n",
              "      <td>0</td>\n",
              "      <td>1</td>\n",
              "      <td>0</td>\n",
              "      <td>0</td>\n",
              "      <td>1</td>\n",
              "      <td>1</td>\n",
              "      <td>1</td>\n",
              "      <td>0</td>\n",
              "      <td>2</td>\n",
              "    </tr>\n",
              "    <tr>\n",
              "      <th>5384</th>\n",
              "      <td>0</td>\n",
              "      <td>36.0</td>\n",
              "      <td>84.75</td>\n",
              "      <td>1</td>\n",
              "      <td>0</td>\n",
              "      <td>0</td>\n",
              "      <td>1</td>\n",
              "      <td>1</td>\n",
              "      <td>1</td>\n",
              "      <td>0</td>\n",
              "      <td>0</td>\n",
              "      <td>0</td>\n",
              "      <td>0</td>\n",
              "      <td>0</td>\n",
              "      <td>1</td>\n",
              "      <td>0</td>\n",
              "      <td>1</td>\n",
              "      <td>2</td>\n",
              "    </tr>\n",
              "    <tr>\n",
              "      <th>6554</th>\n",
              "      <td>0</td>\n",
              "      <td>61.0</td>\n",
              "      <td>61.45</td>\n",
              "      <td>0</td>\n",
              "      <td>1</td>\n",
              "      <td>1</td>\n",
              "      <td>0</td>\n",
              "      <td>0</td>\n",
              "      <td>0</td>\n",
              "      <td>0</td>\n",
              "      <td>1</td>\n",
              "      <td>1</td>\n",
              "      <td>1</td>\n",
              "      <td>1</td>\n",
              "      <td>1</td>\n",
              "      <td>2</td>\n",
              "      <td>1</td>\n",
              "      <td>0</td>\n",
              "    </tr>\n",
              "    <tr>\n",
              "      <th>364</th>\n",
              "      <td>0</td>\n",
              "      <td>47.0</td>\n",
              "      <td>20.55</td>\n",
              "      <td>0</td>\n",
              "      <td>0</td>\n",
              "      <td>0</td>\n",
              "      <td>1</td>\n",
              "      <td>0</td>\n",
              "      <td>2</td>\n",
              "      <td>0</td>\n",
              "      <td>0</td>\n",
              "      <td>0</td>\n",
              "      <td>0</td>\n",
              "      <td>0</td>\n",
              "      <td>0</td>\n",
              "      <td>2</td>\n",
              "      <td>1</td>\n",
              "      <td>3</td>\n",
              "    </tr>\n",
              "  </tbody>\n",
              "</table>\n",
              "</div>"
            ],
            "text/plain": [
              "      SeniorCitizen  tenure  ...  PaperlessBilling_num  PaymentMethod_num\n",
              "id                           ...                                         \n",
              "5027              0    23.0  ...                     1                  1\n",
              "1733              1    61.0  ...                     0                  2\n",
              "5384              0    36.0  ...                     1                  2\n",
              "6554              0    61.0  ...                     1                  0\n",
              "364               0    47.0  ...                     1                  3\n",
              "\n",
              "[5 rows x 18 columns]"
            ]
          },
          "metadata": {
            "tags": []
          },
          "execution_count": 47
        }
      ]
    },
    {
      "cell_type": "markdown",
      "metadata": {
        "id": "mEKm2OlMAfJL"
      },
      "source": [
        "## Eliminando variáveis"
      ]
    },
    {
      "cell_type": "code",
      "metadata": {
        "id": "4aIjOeRUAozV"
      },
      "source": [
        "from sklearn.feature_selection import VarianceThreshold"
      ],
      "execution_count": null,
      "outputs": []
    },
    {
      "cell_type": "code",
      "metadata": {
        "id": "ANH4TzSOAutk"
      },
      "source": [
        "df_train_limpo = df_train.copy()\n",
        "df_test_limpo = df_test.copy()"
      ],
      "execution_count": null,
      "outputs": []
    },
    {
      "cell_type": "code",
      "metadata": {
        "id": "gAhh1uSPB4Kt",
        "outputId": "79cdd64b-4f7e-4841-9df3-9e5c1e111c0d",
        "colab": {
          "base_uri": "https://localhost:8080/"
        }
      },
      "source": [
        "sel = VarianceThreshold(threshold=(.8 * (1 - .8)))\n",
        "sel.fit_transform(df_train_limpo)"
      ],
      "execution_count": null,
      "outputs": [
        {
          "output_type": "execute_result",
          "data": {
            "text/plain": [
              "array([[5.60000000e+01, 4.50500000e+01, 2.56010000e+03, ...,\n",
              "        2.00000000e+00, 0.00000000e+00, 4.00000000e+00],\n",
              "       [1.69287532e+01, 1.96500000e+01, 3.32650000e+02, ...,\n",
              "        1.00000000e+00, 0.00000000e+00, 3.00000000e+00],\n",
              "       [6.00000000e+01, 1.10800000e+02, 6.64070000e+03, ...,\n",
              "        2.00000000e+00, 1.00000000e+00, 1.00000000e+00],\n",
              "       ...,\n",
              "       [2.80000000e+01, 5.46500000e+01, 1.51750000e+03, ...,\n",
              "        0.00000000e+00, 0.00000000e+00, 0.00000000e+00],\n",
              "       [6.30000000e+01, 2.52500000e+01, 1.57305000e+03, ...,\n",
              "        2.00000000e+00, 0.00000000e+00, 3.00000000e+00],\n",
              "       [3.80000000e+01, 9.50000000e+01, 3.60560000e+03, ...,\n",
              "        1.00000000e+00, 0.00000000e+00, 0.00000000e+00]])"
            ]
          },
          "metadata": {
            "tags": []
          },
          "execution_count": 38
        }
      ]
    },
    {
      "cell_type": "code",
      "metadata": {
        "id": "cWObou0yLcYt",
        "outputId": "930dc63b-2124-45f6-c858-627f6123eecf",
        "colab": {
          "base_uri": "https://localhost:8080/",
          "height": 163
        }
      },
      "source": [
        "df_train_limpo"
      ],
      "execution_count": null,
      "outputs": [
        {
          "output_type": "error",
          "ename": "NameError",
          "evalue": "ignored",
          "traceback": [
            "\u001b[0;31m---------------------------------------------------------------------------\u001b[0m",
            "\u001b[0;31mNameError\u001b[0m                                 Traceback (most recent call last)",
            "\u001b[0;32m<ipython-input-1-3bc2b000943b>\u001b[0m in \u001b[0;36m<module>\u001b[0;34m()\u001b[0m\n\u001b[0;32m----> 1\u001b[0;31m \u001b[0mdf_train_limpo\u001b[0m\u001b[0;34m\u001b[0m\u001b[0;34m\u001b[0m\u001b[0m\n\u001b[0m",
            "\u001b[0;31mNameError\u001b[0m: name 'df_train_limpo' is not defined"
          ]
        }
      ]
    },
    {
      "cell_type": "code",
      "metadata": {
        "id": "pwXTeFskLhyu",
        "outputId": "3df2402a-392a-4287-efa0-b6e8a0a05da4",
        "colab": {
          "base_uri": "https://localhost:8080/"
        }
      },
      "source": [
        "sel"
      ],
      "execution_count": null,
      "outputs": [
        {
          "output_type": "execute_result",
          "data": {
            "text/plain": [
              "VarianceThreshold(threshold=0.15999999999999998)"
            ]
          },
          "metadata": {
            "tags": []
          },
          "execution_count": 40
        }
      ]
    },
    {
      "cell_type": "markdown",
      "metadata": {
        "id": "m7xZp8gbQmPu"
      },
      "source": [
        "## Salvando o dataframe tratado"
      ]
    },
    {
      "cell_type": "code",
      "metadata": {
        "id": "-Ibcgs9zQsS_"
      },
      "source": [
        "df_train.to_csv('/gdrive/My Drive/Python/treino_limpo3.csv')\n",
        "df_test.to_csv('/gdrive/My Drive/Python/teste_limpo3.csv')"
      ],
      "execution_count": null,
      "outputs": []
    }
  ]
}