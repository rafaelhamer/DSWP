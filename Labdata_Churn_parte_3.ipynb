{
  "nbformat": 4,
  "nbformat_minor": 0,
  "metadata": {
    "kernelspec": {
      "display_name": "Python 3",
      "language": "python",
      "name": "python3"
    },
    "language_info": {
      "codemirror_mode": {
        "name": "ipython",
        "version": 3
      },
      "file_extension": ".py",
      "mimetype": "text/x-python",
      "name": "python",
      "nbconvert_exporter": "python",
      "pygments_lexer": "ipython3",
      "version": "3.7.6"
    },
    "colab": {
      "name": "Labdata Churn - parte 3.ipynb",
      "provenance": [],
      "collapsed_sections": [],
      "include_colab_link": true
    }
  },
  "cells": [
    {
      "cell_type": "markdown",
      "metadata": {
        "id": "view-in-github",
        "colab_type": "text"
      },
      "source": [
        "<a href=\"https://colab.research.google.com/github/rafaelhamer/DSWP/blob/master/Labdata_Churn_parte_3.ipynb\" target=\"_parent\"><img src=\"https://colab.research.google.com/assets/colab-badge.svg\" alt=\"Open In Colab\"/></a>"
      ]
    },
    {
      "cell_type": "code",
      "metadata": {
        "_cell_guid": "b1076dfc-b9ad-4769-8c92-a6c4dae69d19",
        "_uuid": "8f2839f25d086af736a60e9eeb907d3b93b6e0e5",
        "id": "2omvF0WZucn4"
      },
      "source": [
        "import numpy as np # linear algebra\n",
        "import pandas as pd # data processing, CSV file I/O (e.g. pd.read_csv)\n",
        "\n",
        "def mostra_missing_value(df):\n",
        "    total = df.isnull().sum().sort_values(ascending = False)\n",
        "    percent = 100*round((df.isnull().sum()/df.isnull().count()).sort_values(ascending = False), 2)\n",
        "    missing_data = pd.concat([total, percent], axis = 1, keys=['Total', 'Percentual'])\n",
        "    print(missing_data.head(10))\n",
        "\n",
        "from google.colab import drive\n",
        "drive.mount('/gdrive')"
      ],
      "execution_count": 1,
      "outputs": []
    },
    {
      "cell_type": "markdown",
      "metadata": {
        "id": "rvjT7uXoucoA"
      },
      "source": [
        "## Lendo os dados de Treino e Teste"
      ]
    },
    {
      "cell_type": "code",
      "metadata": {
        "_cell_guid": "79c7e3d0-c299-4dcb-8224-4455121ee9b0",
        "_uuid": "d629ff2d2480ee46fbb7e2d37f6b5fab8052498a",
        "id": "8KlaexksucoB"
      },
      "source": [
        "df_train = pd.read_csv('/gdrive/My Drive/Python/treino_limpo2.csv', index_col='id')\n",
        "df_test  = pd.read_csv('/gdrive/My Drive/Python/teste_limpo2.csv', index_col=0)\n",
        "\n",
        "submission = pd.read_csv('/gdrive/My Drive/Python/sample_submission.csv')"
      ],
      "execution_count": 81,
      "outputs": []
    },
    {
      "cell_type": "code",
      "metadata": {
        "id": "6FNfdqdf4smE",
        "outputId": "651d0e33-41b6-426f-df02-89cf982893e8",
        "colab": {
          "base_uri": "https://localhost:8080/"
        }
      },
      "source": [
        "df_train.dtypes"
      ],
      "execution_count": 59,
      "outputs": [
        {
          "output_type": "execute_result",
          "data": {
            "text/plain": [
              "SeniorCitizen             int64\n",
              "tenure                  float64\n",
              "MonthlyCharges          float64\n",
              "Churn                     int64\n",
              "Partner_num               int64\n",
              "Dependents_num            int64\n",
              "PhoneService_num          int64\n",
              "MultipleLines_num         int64\n",
              "InternetService_num       int64\n",
              "OnlineSecurity_num        int64\n",
              "OnlineBackup_num          int64\n",
              "DeviceProtection_num      int64\n",
              "TechSupport_num           int64\n",
              "StreamingTV_num           int64\n",
              "StreamingMovies_num       int64\n",
              "Contract_num              int64\n",
              "PaperlessBilling_num      int64\n",
              "PaymentMethod_num         int64\n",
              "dtype: object"
            ]
          },
          "metadata": {
            "tags": []
          },
          "execution_count": 59
        }
      ]
    },
    {
      "cell_type": "code",
      "metadata": {
        "id": "OHQOVu1iucoH"
      },
      "source": [
        "mostra_missing_value(df_train)"
      ],
      "execution_count": null,
      "outputs": []
    },
    {
      "cell_type": "code",
      "metadata": {
        "id": "mkrkkeyOqBPC"
      },
      "source": [
        "mostra_missing_value(df_test)"
      ],
      "execution_count": null,
      "outputs": []
    },
    {
      "cell_type": "code",
      "metadata": {
        "id": "C9D-qnUBucoR",
        "outputId": "e9c045e1-ab89-4c76-fb55-2b885d1a89c2",
        "colab": {
          "base_uri": "https://localhost:8080/",
          "height": 255
        }
      },
      "source": [
        "df_train.head()"
      ],
      "execution_count": 60,
      "outputs": [
        {
          "output_type": "execute_result",
          "data": {
            "text/html": [
              "<div>\n",
              "<style scoped>\n",
              "    .dataframe tbody tr th:only-of-type {\n",
              "        vertical-align: middle;\n",
              "    }\n",
              "\n",
              "    .dataframe tbody tr th {\n",
              "        vertical-align: top;\n",
              "    }\n",
              "\n",
              "    .dataframe thead th {\n",
              "        text-align: right;\n",
              "    }\n",
              "</style>\n",
              "<table border=\"1\" class=\"dataframe\">\n",
              "  <thead>\n",
              "    <tr style=\"text-align: right;\">\n",
              "      <th></th>\n",
              "      <th>SeniorCitizen</th>\n",
              "      <th>tenure</th>\n",
              "      <th>MonthlyCharges</th>\n",
              "      <th>Churn</th>\n",
              "      <th>Partner_num</th>\n",
              "      <th>Dependents_num</th>\n",
              "      <th>PhoneService_num</th>\n",
              "      <th>MultipleLines_num</th>\n",
              "      <th>InternetService_num</th>\n",
              "      <th>OnlineSecurity_num</th>\n",
              "      <th>OnlineBackup_num</th>\n",
              "      <th>DeviceProtection_num</th>\n",
              "      <th>TechSupport_num</th>\n",
              "      <th>StreamingTV_num</th>\n",
              "      <th>StreamingMovies_num</th>\n",
              "      <th>Contract_num</th>\n",
              "      <th>PaperlessBilling_num</th>\n",
              "      <th>PaymentMethod_num</th>\n",
              "    </tr>\n",
              "    <tr>\n",
              "      <th>id</th>\n",
              "      <th></th>\n",
              "      <th></th>\n",
              "      <th></th>\n",
              "      <th></th>\n",
              "      <th></th>\n",
              "      <th></th>\n",
              "      <th></th>\n",
              "      <th></th>\n",
              "      <th></th>\n",
              "      <th></th>\n",
              "      <th></th>\n",
              "      <th></th>\n",
              "      <th></th>\n",
              "      <th></th>\n",
              "      <th></th>\n",
              "      <th></th>\n",
              "      <th></th>\n",
              "      <th></th>\n",
              "    </tr>\n",
              "  </thead>\n",
              "  <tbody>\n",
              "    <tr>\n",
              "      <th>4030</th>\n",
              "      <td>0</td>\n",
              "      <td>56.000000</td>\n",
              "      <td>45.05</td>\n",
              "      <td>0</td>\n",
              "      <td>0</td>\n",
              "      <td>0</td>\n",
              "      <td>0</td>\n",
              "      <td>1</td>\n",
              "      <td>0</td>\n",
              "      <td>2</td>\n",
              "      <td>2</td>\n",
              "      <td>2</td>\n",
              "      <td>2</td>\n",
              "      <td>0</td>\n",
              "      <td>0</td>\n",
              "      <td>2</td>\n",
              "      <td>0</td>\n",
              "      <td>4</td>\n",
              "    </tr>\n",
              "    <tr>\n",
              "      <th>6731</th>\n",
              "      <td>0</td>\n",
              "      <td>16.928753</td>\n",
              "      <td>19.65</td>\n",
              "      <td>0</td>\n",
              "      <td>1</td>\n",
              "      <td>1</td>\n",
              "      <td>1</td>\n",
              "      <td>0</td>\n",
              "      <td>2</td>\n",
              "      <td>1</td>\n",
              "      <td>1</td>\n",
              "      <td>1</td>\n",
              "      <td>1</td>\n",
              "      <td>1</td>\n",
              "      <td>1</td>\n",
              "      <td>1</td>\n",
              "      <td>0</td>\n",
              "      <td>3</td>\n",
              "    </tr>\n",
              "    <tr>\n",
              "      <th>6479</th>\n",
              "      <td>0</td>\n",
              "      <td>60.000000</td>\n",
              "      <td>110.80</td>\n",
              "      <td>0</td>\n",
              "      <td>1</td>\n",
              "      <td>0</td>\n",
              "      <td>1</td>\n",
              "      <td>2</td>\n",
              "      <td>1</td>\n",
              "      <td>0</td>\n",
              "      <td>2</td>\n",
              "      <td>2</td>\n",
              "      <td>2</td>\n",
              "      <td>2</td>\n",
              "      <td>2</td>\n",
              "      <td>2</td>\n",
              "      <td>1</td>\n",
              "      <td>1</td>\n",
              "    </tr>\n",
              "    <tr>\n",
              "      <th>6861</th>\n",
              "      <td>0</td>\n",
              "      <td>37.000000</td>\n",
              "      <td>101.90</td>\n",
              "      <td>1</td>\n",
              "      <td>0</td>\n",
              "      <td>0</td>\n",
              "      <td>1</td>\n",
              "      <td>2</td>\n",
              "      <td>1</td>\n",
              "      <td>0</td>\n",
              "      <td>2</td>\n",
              "      <td>2</td>\n",
              "      <td>0</td>\n",
              "      <td>2</td>\n",
              "      <td>2</td>\n",
              "      <td>0</td>\n",
              "      <td>1</td>\n",
              "      <td>0</td>\n",
              "    </tr>\n",
              "    <tr>\n",
              "      <th>3266</th>\n",
              "      <td>0</td>\n",
              "      <td>29.000000</td>\n",
              "      <td>70.75</td>\n",
              "      <td>1</td>\n",
              "      <td>1</td>\n",
              "      <td>1</td>\n",
              "      <td>1</td>\n",
              "      <td>0</td>\n",
              "      <td>1</td>\n",
              "      <td>0</td>\n",
              "      <td>0</td>\n",
              "      <td>0</td>\n",
              "      <td>0</td>\n",
              "      <td>0</td>\n",
              "      <td>0</td>\n",
              "      <td>0</td>\n",
              "      <td>1</td>\n",
              "      <td>2</td>\n",
              "    </tr>\n",
              "  </tbody>\n",
              "</table>\n",
              "</div>"
            ],
            "text/plain": [
              "      SeniorCitizen     tenure  ...  PaperlessBilling_num  PaymentMethod_num\n",
              "id                              ...                                         \n",
              "4030              0  56.000000  ...                     0                  4\n",
              "6731              0  16.928753  ...                     0                  3\n",
              "6479              0  60.000000  ...                     1                  1\n",
              "6861              0  37.000000  ...                     1                  0\n",
              "3266              0  29.000000  ...                     1                  2\n",
              "\n",
              "[5 rows x 18 columns]"
            ]
          },
          "metadata": {
            "tags": []
          },
          "execution_count": 60
        }
      ]
    },
    {
      "cell_type": "code",
      "metadata": {
        "id": "KZGRzOKSucoU",
        "outputId": "7da9bc29-ea9f-4c7d-cc2e-2e94c801c8e9",
        "colab": {
          "base_uri": "https://localhost:8080/",
          "height": 224
        }
      },
      "source": [
        "df_test.head()"
      ],
      "execution_count": 61,
      "outputs": [
        {
          "output_type": "execute_result",
          "data": {
            "text/html": [
              "<div>\n",
              "<style scoped>\n",
              "    .dataframe tbody tr th:only-of-type {\n",
              "        vertical-align: middle;\n",
              "    }\n",
              "\n",
              "    .dataframe tbody tr th {\n",
              "        vertical-align: top;\n",
              "    }\n",
              "\n",
              "    .dataframe thead th {\n",
              "        text-align: right;\n",
              "    }\n",
              "</style>\n",
              "<table border=\"1\" class=\"dataframe\">\n",
              "  <thead>\n",
              "    <tr style=\"text-align: right;\">\n",
              "      <th></th>\n",
              "      <th>SeniorCitizen</th>\n",
              "      <th>tenure</th>\n",
              "      <th>MonthlyCharges</th>\n",
              "      <th>Partner_num</th>\n",
              "      <th>Dependents_num</th>\n",
              "      <th>PhoneService_num</th>\n",
              "      <th>MultipleLines_num</th>\n",
              "      <th>InternetService_num</th>\n",
              "      <th>OnlineSecurity_num</th>\n",
              "      <th>OnlineBackup_num</th>\n",
              "      <th>DeviceProtection_num</th>\n",
              "      <th>TechSupport_num</th>\n",
              "      <th>StreamingTV_num</th>\n",
              "      <th>StreamingMovies_num</th>\n",
              "      <th>Contract_num</th>\n",
              "      <th>PaperlessBilling_num</th>\n",
              "      <th>PaymentMethod_num</th>\n",
              "    </tr>\n",
              "  </thead>\n",
              "  <tbody>\n",
              "    <tr>\n",
              "      <th>0</th>\n",
              "      <td>0</td>\n",
              "      <td>23.0</td>\n",
              "      <td>20.00</td>\n",
              "      <td>1</td>\n",
              "      <td>1</td>\n",
              "      <td>1</td>\n",
              "      <td>0</td>\n",
              "      <td>2</td>\n",
              "      <td>1</td>\n",
              "      <td>1</td>\n",
              "      <td>1</td>\n",
              "      <td>1</td>\n",
              "      <td>1</td>\n",
              "      <td>1</td>\n",
              "      <td>1</td>\n",
              "      <td>1</td>\n",
              "      <td>1</td>\n",
              "    </tr>\n",
              "    <tr>\n",
              "      <th>1</th>\n",
              "      <td>1</td>\n",
              "      <td>61.0</td>\n",
              "      <td>99.00</td>\n",
              "      <td>1</td>\n",
              "      <td>1</td>\n",
              "      <td>1</td>\n",
              "      <td>2</td>\n",
              "      <td>1</td>\n",
              "      <td>0</td>\n",
              "      <td>2</td>\n",
              "      <td>0</td>\n",
              "      <td>0</td>\n",
              "      <td>2</td>\n",
              "      <td>2</td>\n",
              "      <td>1</td>\n",
              "      <td>0</td>\n",
              "      <td>4</td>\n",
              "    </tr>\n",
              "    <tr>\n",
              "      <th>2</th>\n",
              "      <td>0</td>\n",
              "      <td>36.0</td>\n",
              "      <td>84.75</td>\n",
              "      <td>0</td>\n",
              "      <td>0</td>\n",
              "      <td>1</td>\n",
              "      <td>2</td>\n",
              "      <td>1</td>\n",
              "      <td>0</td>\n",
              "      <td>0</td>\n",
              "      <td>0</td>\n",
              "      <td>0</td>\n",
              "      <td>0</td>\n",
              "      <td>2</td>\n",
              "      <td>0</td>\n",
              "      <td>1</td>\n",
              "      <td>2</td>\n",
              "    </tr>\n",
              "    <tr>\n",
              "      <th>3</th>\n",
              "      <td>0</td>\n",
              "      <td>61.0</td>\n",
              "      <td>61.45</td>\n",
              "      <td>1</td>\n",
              "      <td>1</td>\n",
              "      <td>0</td>\n",
              "      <td>1</td>\n",
              "      <td>0</td>\n",
              "      <td>0</td>\n",
              "      <td>2</td>\n",
              "      <td>2</td>\n",
              "      <td>2</td>\n",
              "      <td>2</td>\n",
              "      <td>2</td>\n",
              "      <td>2</td>\n",
              "      <td>1</td>\n",
              "      <td>0</td>\n",
              "    </tr>\n",
              "    <tr>\n",
              "      <th>4</th>\n",
              "      <td>0</td>\n",
              "      <td>47.0</td>\n",
              "      <td>20.55</td>\n",
              "      <td>0</td>\n",
              "      <td>0</td>\n",
              "      <td>1</td>\n",
              "      <td>0</td>\n",
              "      <td>2</td>\n",
              "      <td>1</td>\n",
              "      <td>1</td>\n",
              "      <td>1</td>\n",
              "      <td>1</td>\n",
              "      <td>1</td>\n",
              "      <td>1</td>\n",
              "      <td>2</td>\n",
              "      <td>1</td>\n",
              "      <td>3</td>\n",
              "    </tr>\n",
              "  </tbody>\n",
              "</table>\n",
              "</div>"
            ],
            "text/plain": [
              "   SeniorCitizen  tenure  ...  PaperlessBilling_num  PaymentMethod_num\n",
              "0              0    23.0  ...                     1                  1\n",
              "1              1    61.0  ...                     0                  4\n",
              "2              0    36.0  ...                     1                  2\n",
              "3              0    61.0  ...                     1                  0\n",
              "4              0    47.0  ...                     1                  3\n",
              "\n",
              "[5 rows x 17 columns]"
            ]
          },
          "metadata": {
            "tags": []
          },
          "execution_count": 61
        }
      ]
    },
    {
      "cell_type": "markdown",
      "metadata": {
        "id": "_oZuU3euucoX"
      },
      "source": [
        "## Treinando o Modelo AdaBoost"
      ]
    },
    {
      "cell_type": "code",
      "metadata": {
        "id": "zpRUhYSeucoX"
      },
      "source": [
        "from sklearn.ensemble import AdaBoostClassifier\n",
        "from sklearn.datasets import make_classification"
      ],
      "execution_count": 62,
      "outputs": []
    },
    {
      "cell_type": "code",
      "metadata": {
        "id": "JNaprpYPucoc",
        "outputId": "fda051c4-2a26-4fef-cd72-fe6993567375",
        "colab": {
          "base_uri": "https://localhost:8080/"
        }
      },
      "source": [
        "dt = AdaBoostClassifier(algorithm='SAMME.R', base_estimator=None, learning_rate=1.0, n_estimators=200)\n",
        "\n",
        "X_train = df_train.drop('Churn', axis=1)\n",
        "y_train = df_train['Churn']\n",
        "\n",
        "dt.fit(X_train, y_train)"
      ],
      "execution_count": 83,
      "outputs": [
        {
          "output_type": "execute_result",
          "data": {
            "text/plain": [
              "AdaBoostClassifier(algorithm='SAMME.R', base_estimator=None, learning_rate=1.0,\n",
              "                   n_estimators=200, random_state=None)"
            ]
          },
          "metadata": {
            "tags": []
          },
          "execution_count": 83
        }
      ]
    },
    {
      "cell_type": "code",
      "metadata": {
        "id": "7w5NmHgjucoh"
      },
      "source": [
        "my_predictions = dt.predict(df_test)\n",
        "submission['Churn'] = my_predictions\n",
        "submission.to_csv('/gdrive/My Drive/Python/ChurnAdaBoost2b.csv', index=False)"
      ],
      "execution_count": 84,
      "outputs": []
    },
    {
      "cell_type": "markdown",
      "metadata": {
        "id": "4gz9dbjC3NCO"
      },
      "source": [
        "## Treinando o Modelo GradientBoosting"
      ]
    },
    {
      "cell_type": "code",
      "metadata": {
        "id": "-qYI7W2k3NCU"
      },
      "source": [
        "from sklearn.datasets import make_classification\n",
        "from sklearn.ensemble import GradientBoostingClassifier\n",
        "from sklearn.model_selection import train_test_split"
      ],
      "execution_count": 66,
      "outputs": []
    },
    {
      "cell_type": "code",
      "metadata": {
        "id": "O3xbMUun3NCd"
      },
      "source": [
        "X_train = df_train.drop('Churn', axis=1)\n",
        "y_train = df_train['Churn']\n",
        "\n",
        "X_test = df_test\n",
        "y_test = df_test['SeniorCitizen']"
      ],
      "execution_count": 72,
      "outputs": []
    },
    {
      "cell_type": "code",
      "metadata": {
        "id": "0eMy9trD9_LF",
        "outputId": "eb0b80d7-bd07-4f54-faa2-9a46a35c5ee2",
        "colab": {
          "base_uri": "https://localhost:8080/"
        }
      },
      "source": [
        "X_train.shape"
      ],
      "execution_count": 67,
      "outputs": [
        {
          "output_type": "execute_result",
          "data": {
            "text/plain": [
              "(5634, 17)"
            ]
          },
          "metadata": {
            "tags": []
          },
          "execution_count": 67
        }
      ]
    },
    {
      "cell_type": "code",
      "metadata": {
        "id": "JWU6xFUu-Cl6",
        "outputId": "14304fb0-a276-468c-89c0-51ea8d438580",
        "colab": {
          "base_uri": "https://localhost:8080/"
        }
      },
      "source": [
        "X_test.shape"
      ],
      "execution_count": 68,
      "outputs": [
        {
          "output_type": "execute_result",
          "data": {
            "text/plain": [
              "(1409, 19)"
            ]
          },
          "metadata": {
            "tags": []
          },
          "execution_count": 68
        }
      ]
    },
    {
      "cell_type": "code",
      "metadata": {
        "id": "2fLv9eVp-ExQ",
        "outputId": "b9c3d1d7-d925-492a-990b-29774025453c",
        "colab": {
          "base_uri": "https://localhost:8080/"
        }
      },
      "source": [
        "y_train.shape"
      ],
      "execution_count": 69,
      "outputs": [
        {
          "output_type": "execute_result",
          "data": {
            "text/plain": [
              "(5634,)"
            ]
          },
          "metadata": {
            "tags": []
          },
          "execution_count": 69
        }
      ]
    },
    {
      "cell_type": "code",
      "metadata": {
        "id": "MkSoDHTz-H6Q",
        "outputId": "89467bc2-d044-4e69-92d1-fab4355d7326",
        "colab": {
          "base_uri": "https://localhost:8080/"
        }
      },
      "source": [
        "y_test.shape"
      ],
      "execution_count": 70,
      "outputs": [
        {
          "output_type": "execute_result",
          "data": {
            "text/plain": [
              "(1409,)"
            ]
          },
          "metadata": {
            "tags": []
          },
          "execution_count": 70
        }
      ]
    },
    {
      "cell_type": "code",
      "metadata": {
        "id": "kMruT8xq8RJd"
      },
      "source": [
        "dt = GradientBoostingClassifier(ccp_alpha=0.0, criterion='friedman_mse', init=None,\n",
        "                           learning_rate=0.409, loss='deviance', max_depth=1,\n",
        "                           max_features=1.0, max_leaf_nodes=None,\n",
        "                           min_impurity_decrease=0.0005,\n",
        "                           min_impurity_split=None, min_samples_leaf=1,\n",
        "                           min_samples_split=4, min_weight_fraction_leaf=0.0,\n",
        "                           n_estimators=60, n_iter_no_change=None,\n",
        "                           presort='deprecated', random_state=123,\n",
        "                           subsample=0.4, tol=0.0001, validation_fraction=0.1,\n",
        "                           verbose=0, warm_start=False)\n",
        "\n",
        "dt.fit(X_train, y_train)\n",
        "\n",
        "my_predictions = dt.predict(X_test)\n",
        "submission['Churn'] = my_predictions\n",
        "submission.to_csv('/gdrive/My Drive/Python/ChurnGradientBoost2.csv', index=False)"
      ],
      "execution_count": 73,
      "outputs": []
    },
    {
      "cell_type": "markdown",
      "metadata": {
        "id": "IRPpmvmFHLea"
      },
      "source": [
        "## Treinando o Modelo LogisticRegression"
      ]
    },
    {
      "cell_type": "code",
      "metadata": {
        "id": "3St7wBU6HLeb"
      },
      "source": [
        "from sklearn.datasets import load_iris\n",
        "from sklearn.linear_model import LogisticRegression"
      ],
      "execution_count": 75,
      "outputs": []
    },
    {
      "cell_type": "code",
      "metadata": {
        "id": "ppX-rM3MHLef"
      },
      "source": [
        "X_train = df_train.drop('Churn', axis=1)\n",
        "y_train = df_train['Churn']\n",
        "\n",
        "X_test = df_test\n",
        "y_test = df_test['SeniorCitizen']"
      ],
      "execution_count": 76,
      "outputs": []
    },
    {
      "cell_type": "code",
      "metadata": {
        "id": "RjfX6U7-HLet"
      },
      "source": [
        "dt = LogisticRegression(C=7.007000000000001, class_weight={}, dual=False,\n",
        "                   fit_intercept=True, intercept_scaling=1, l1_ratio=None,\n",
        "                   max_iter=1000, multi_class='auto', n_jobs=None, penalty='l2',\n",
        "                   random_state=123, solver='lbfgs', tol=0.0001, verbose=0,\n",
        "                   warm_start=False)\n",
        "\n",
        "dt.fit(X_train, y_train)\n",
        "\n",
        "my_predictions = dt.predict(X_test)\n",
        "submission['Churn'] = my_predictions\n",
        "submission.to_csv('/gdrive/My Drive/Python/ChurnLogisticRegression2.csv', index=False)"
      ],
      "execution_count": 77,
      "outputs": []
    },
    {
      "cell_type": "markdown",
      "metadata": {
        "id": "wvxgD22kHHJO"
      },
      "source": [
        "## Treinando o Modelo CatBoostingClassifier"
      ]
    },
    {
      "cell_type": "code",
      "metadata": {
        "id": "WIzyQq1uHHJU"
      },
      "source": [
        "!pip install catboost"
      ],
      "execution_count": null,
      "outputs": []
    },
    {
      "cell_type": "code",
      "metadata": {
        "id": "U53apd1KK-Je"
      },
      "source": [
        "from catboost import CatBoostClassifier"
      ],
      "execution_count": 74,
      "outputs": []
    },
    {
      "cell_type": "code",
      "metadata": {
        "id": "w37FJblJHHJm"
      },
      "source": [
        "dt = CatBoostClassifier(auto_class_weights= None,\n",
        " #bayesian_matrix_reg= 0.10000000149011612,\n",
        " best_model_min_trees= 1,\n",
        " boost_from_average= False,\n",
        " boosting_type= 'Plain',\n",
        " bootstrap_type= 'MVS',\n",
        " border_count= 254,\n",
        " class_names= [0, 1],\n",
        " classes_count= 0,\n",
        " depth= 4,\n",
        " eval_metric= 'Logloss',\n",
        " feature_border_type= 'GreedyLogSum',\n",
        " grow_policy= 'SymmetricTree',\n",
        " iterations= 290,\n",
        " l2_leaf_reg= 30,\n",
        " leaf_estimation_backtracking= 'AnyImprovement',\n",
        " leaf_estimation_iterations= 10,\n",
        " leaf_estimation_method= 'Newton',\n",
        " learning_rate= 0.029999999329447743,\n",
        " loss_function= 'Logloss',\n",
        " max_leaves= 16,\n",
        " min_data_in_leaf= 1,\n",
        " model_shrink_mode= 'Constant',\n",
        " model_shrink_rate= 0,\n",
        " model_size_reg= 0.5,\n",
        " nan_mode= 'Min',\n",
        " penalties_coefficient= 1,\n",
        " posterior_sampling= False,\n",
        " random_seed= 123,\n",
        " random_strength= 0.5,\n",
        " rsm= 1,\n",
        " sampling_frequency= 'PerTree',\n",
        " score_function= 'Cosine',\n",
        " sparse_features_conflict_fraction= 0,\n",
        " subsample= 0.800000011920929,\n",
        " task_type= 'CPU',\n",
        " use_best_model= False)\n",
        "\n",
        "dt.fit(X_train, y_train)\n",
        "my_predictions = dt.predict(X_test)\n",
        "submission['Churn'] = my_predictions\n",
        "submission.to_csv('/gdrive/My Drive/Python/ChurnCatBoosting.csv', index=False)"
      ],
      "execution_count": null,
      "outputs": []
    },
    {
      "cell_type": "code",
      "metadata": {
        "id": "i4ynzScHgt_6",
        "outputId": "0fc51160-5884-40bd-8078-7ad39ac1b4d6",
        "colab": {
          "base_uri": "https://localhost:8080/"
        }
      },
      "source": [
        "dt = CatBoostClassifier(auto_class_weights= 'None',\n",
        " #bayesian_matrix_reg= 0.10000000149011612,\n",
        " best_model_min_trees= 1,\n",
        " boost_from_average= False,\n",
        " boosting_type= 'Plain',\n",
        " bootstrap_type= 'MVS',\n",
        " border_count= 254,\n",
        " class_names= [0, 1],\n",
        " classes_count= 0,\n",
        " depth= 2,\n",
        " eval_metric= 'Logloss',\n",
        " feature_border_type= 'GreedyLogSum',\n",
        " grow_policy= 'SymmetricTree',\n",
        " iterations= 300,\n",
        " l2_leaf_reg= 6,\n",
        " leaf_estimation_backtracking= 'AnyImprovement',\n",
        " leaf_estimation_iterations= 10,\n",
        " leaf_estimation_method= 'Newton',\n",
        " learning_rate= 0.029999999329447743,\n",
        " loss_function= 'Logloss',\n",
        " max_leaves= 4,\n",
        " min_data_in_leaf= 1,\n",
        " model_shrink_mode= 'Constant',\n",
        " model_shrink_rate= 0,\n",
        " model_size_reg= 0.5,\n",
        " nan_mode= 'Min',\n",
        " penalties_coefficient= 1,\n",
        " posterior_sampling= False,\n",
        " random_seed= 123,\n",
        " random_strength= 0.30000001192092896,\n",
        " rsm= 1,\n",
        " sampling_frequency= 'PerTree',\n",
        " score_function= 'Cosine',\n",
        " sparse_features_conflict_fraction= 0,\n",
        " subsample= 0.800000011920929,\n",
        " task_type= 'CPU',\n",
        " use_best_model= False)\n",
        "\n",
        "dt.fit(X_train, y_train)\n",
        "my_predictions = dt.predict(X_test)\n",
        "submission['Churn'] = my_predictions\n",
        "submission.to_csv('/gdrive/My Drive/Python/ChurnCatBoosting2b.csv', index=False)"
      ],
      "execution_count": 82,
      "outputs": [
        {
          "output_type": "stream",
          "text": [
            "0:\tlearn: 0.6749898\ttotal: 2.44ms\tremaining: 731ms\n",
            "1:\tlearn: 0.6590336\ttotal: 5.25ms\tremaining: 782ms\n",
            "2:\tlearn: 0.6434683\ttotal: 7.5ms\tremaining: 742ms\n",
            "3:\tlearn: 0.6286945\ttotal: 9.67ms\tremaining: 716ms\n",
            "4:\tlearn: 0.6154486\ttotal: 11.8ms\tremaining: 696ms\n",
            "5:\tlearn: 0.6028920\ttotal: 13.9ms\tremaining: 682ms\n",
            "6:\tlearn: 0.5913561\ttotal: 16.3ms\tremaining: 684ms\n",
            "7:\tlearn: 0.5809587\ttotal: 18.6ms\tremaining: 678ms\n",
            "8:\tlearn: 0.5713858\ttotal: 20.7ms\tremaining: 669ms\n",
            "9:\tlearn: 0.5622698\ttotal: 23.4ms\tremaining: 678ms\n",
            "10:\tlearn: 0.5551386\ttotal: 25.5ms\tremaining: 670ms\n",
            "11:\tlearn: 0.5482185\ttotal: 27.7ms\tremaining: 664ms\n",
            "12:\tlearn: 0.5419706\ttotal: 29.8ms\tremaining: 657ms\n",
            "13:\tlearn: 0.5357556\ttotal: 31.9ms\tremaining: 652ms\n",
            "14:\tlearn: 0.5290330\ttotal: 34.2ms\tremaining: 649ms\n",
            "15:\tlearn: 0.5235088\ttotal: 36.4ms\tremaining: 647ms\n",
            "16:\tlearn: 0.5183687\ttotal: 38.6ms\tremaining: 643ms\n",
            "17:\tlearn: 0.5139005\ttotal: 40.9ms\tremaining: 641ms\n",
            "18:\tlearn: 0.5094755\ttotal: 43.1ms\tremaining: 637ms\n",
            "19:\tlearn: 0.5052890\ttotal: 45.4ms\tremaining: 635ms\n",
            "20:\tlearn: 0.5013839\ttotal: 47.6ms\tremaining: 633ms\n",
            "21:\tlearn: 0.4977863\ttotal: 50ms\tremaining: 632ms\n",
            "22:\tlearn: 0.4934028\ttotal: 52.3ms\tremaining: 630ms\n",
            "23:\tlearn: 0.4900732\ttotal: 54.5ms\tremaining: 627ms\n",
            "24:\tlearn: 0.4862174\ttotal: 56.6ms\tremaining: 623ms\n",
            "25:\tlearn: 0.4831837\ttotal: 59ms\tremaining: 621ms\n",
            "26:\tlearn: 0.4804300\ttotal: 61.3ms\tremaining: 619ms\n",
            "27:\tlearn: 0.4775993\ttotal: 63.4ms\tremaining: 616ms\n",
            "28:\tlearn: 0.4750156\ttotal: 65.7ms\tremaining: 613ms\n",
            "29:\tlearn: 0.4727621\ttotal: 67.8ms\tremaining: 610ms\n",
            "30:\tlearn: 0.4706582\ttotal: 70ms\tremaining: 607ms\n",
            "31:\tlearn: 0.4683171\ttotal: 72.2ms\tremaining: 604ms\n",
            "32:\tlearn: 0.4664230\ttotal: 74.4ms\tremaining: 602ms\n",
            "33:\tlearn: 0.4645025\ttotal: 76.5ms\tremaining: 599ms\n",
            "34:\tlearn: 0.4627884\ttotal: 78.7ms\tremaining: 596ms\n",
            "35:\tlearn: 0.4611555\ttotal: 80.8ms\tremaining: 593ms\n",
            "36:\tlearn: 0.4595266\ttotal: 83.1ms\tremaining: 590ms\n",
            "37:\tlearn: 0.4576134\ttotal: 85.2ms\tremaining: 588ms\n",
            "38:\tlearn: 0.4556603\ttotal: 87.4ms\tremaining: 585ms\n",
            "39:\tlearn: 0.4543698\ttotal: 89.6ms\tremaining: 582ms\n",
            "40:\tlearn: 0.4532004\ttotal: 91.7ms\tremaining: 579ms\n",
            "41:\tlearn: 0.4519719\ttotal: 93.9ms\tremaining: 577ms\n",
            "42:\tlearn: 0.4507004\ttotal: 96.1ms\tremaining: 574ms\n",
            "43:\tlearn: 0.4496378\ttotal: 98.3ms\tremaining: 572ms\n",
            "44:\tlearn: 0.4481956\ttotal: 100ms\tremaining: 569ms\n",
            "45:\tlearn: 0.4471361\ttotal: 103ms\tremaining: 567ms\n",
            "46:\tlearn: 0.4460628\ttotal: 105ms\tremaining: 565ms\n",
            "47:\tlearn: 0.4450277\ttotal: 107ms\tremaining: 562ms\n",
            "48:\tlearn: 0.4441221\ttotal: 109ms\tremaining: 559ms\n",
            "49:\tlearn: 0.4432211\ttotal: 111ms\tremaining: 557ms\n",
            "50:\tlearn: 0.4420939\ttotal: 113ms\tremaining: 554ms\n",
            "51:\tlearn: 0.4412215\ttotal: 116ms\tremaining: 552ms\n",
            "52:\tlearn: 0.4399730\ttotal: 118ms\tremaining: 550ms\n",
            "53:\tlearn: 0.4391054\ttotal: 120ms\tremaining: 548ms\n",
            "54:\tlearn: 0.4382215\ttotal: 123ms\tremaining: 546ms\n",
            "55:\tlearn: 0.4372917\ttotal: 125ms\tremaining: 543ms\n",
            "56:\tlearn: 0.4365836\ttotal: 127ms\tremaining: 540ms\n",
            "57:\tlearn: 0.4355190\ttotal: 129ms\tremaining: 538ms\n",
            "58:\tlearn: 0.4347471\ttotal: 131ms\tremaining: 536ms\n",
            "59:\tlearn: 0.4341792\ttotal: 134ms\tremaining: 534ms\n",
            "60:\tlearn: 0.4333507\ttotal: 136ms\tremaining: 532ms\n",
            "61:\tlearn: 0.4327538\ttotal: 138ms\tremaining: 529ms\n",
            "62:\tlearn: 0.4322065\ttotal: 140ms\tremaining: 526ms\n",
            "63:\tlearn: 0.4316800\ttotal: 142ms\tremaining: 524ms\n",
            "64:\tlearn: 0.4311334\ttotal: 144ms\tremaining: 521ms\n",
            "65:\tlearn: 0.4306244\ttotal: 146ms\tremaining: 519ms\n",
            "66:\tlearn: 0.4297396\ttotal: 149ms\tremaining: 517ms\n",
            "67:\tlearn: 0.4290821\ttotal: 151ms\tremaining: 515ms\n",
            "68:\tlearn: 0.4285426\ttotal: 153ms\tremaining: 513ms\n",
            "69:\tlearn: 0.4281004\ttotal: 155ms\tremaining: 510ms\n",
            "70:\tlearn: 0.4271002\ttotal: 157ms\tremaining: 508ms\n",
            "71:\tlearn: 0.4266128\ttotal: 160ms\tremaining: 506ms\n",
            "72:\tlearn: 0.4262341\ttotal: 162ms\tremaining: 503ms\n",
            "73:\tlearn: 0.4258745\ttotal: 164ms\tremaining: 501ms\n",
            "74:\tlearn: 0.4253582\ttotal: 166ms\tremaining: 499ms\n",
            "75:\tlearn: 0.4245638\ttotal: 168ms\tremaining: 497ms\n",
            "76:\tlearn: 0.4241632\ttotal: 171ms\tremaining: 494ms\n",
            "77:\tlearn: 0.4237083\ttotal: 173ms\tremaining: 492ms\n",
            "78:\tlearn: 0.4233199\ttotal: 175ms\tremaining: 490ms\n",
            "79:\tlearn: 0.4229278\ttotal: 177ms\tremaining: 487ms\n",
            "80:\tlearn: 0.4226060\ttotal: 180ms\tremaining: 485ms\n",
            "81:\tlearn: 0.4219177\ttotal: 182ms\tremaining: 484ms\n",
            "82:\tlearn: 0.4215775\ttotal: 184ms\tremaining: 482ms\n",
            "83:\tlearn: 0.4212134\ttotal: 186ms\tremaining: 479ms\n",
            "84:\tlearn: 0.4208438\ttotal: 188ms\tremaining: 477ms\n",
            "85:\tlearn: 0.4205365\ttotal: 190ms\tremaining: 474ms\n",
            "86:\tlearn: 0.4202023\ttotal: 192ms\tremaining: 471ms\n",
            "87:\tlearn: 0.4198329\ttotal: 196ms\tremaining: 472ms\n",
            "88:\tlearn: 0.4194218\ttotal: 199ms\tremaining: 473ms\n",
            "89:\tlearn: 0.4191607\ttotal: 201ms\tremaining: 470ms\n",
            "90:\tlearn: 0.4188746\ttotal: 204ms\tremaining: 467ms\n",
            "91:\tlearn: 0.4184677\ttotal: 206ms\tremaining: 465ms\n",
            "92:\tlearn: 0.4182083\ttotal: 208ms\tremaining: 463ms\n",
            "93:\tlearn: 0.4178263\ttotal: 210ms\tremaining: 461ms\n",
            "94:\tlearn: 0.4174272\ttotal: 212ms\tremaining: 458ms\n",
            "95:\tlearn: 0.4171418\ttotal: 215ms\tremaining: 456ms\n",
            "96:\tlearn: 0.4169260\ttotal: 217ms\tremaining: 453ms\n",
            "97:\tlearn: 0.4166628\ttotal: 219ms\tremaining: 451ms\n",
            "98:\tlearn: 0.4162981\ttotal: 221ms\tremaining: 449ms\n",
            "99:\tlearn: 0.4159835\ttotal: 223ms\tremaining: 446ms\n",
            "100:\tlearn: 0.4154480\ttotal: 225ms\tremaining: 444ms\n",
            "101:\tlearn: 0.4152185\ttotal: 228ms\tremaining: 442ms\n",
            "102:\tlearn: 0.4149310\ttotal: 230ms\tremaining: 439ms\n",
            "103:\tlearn: 0.4146364\ttotal: 232ms\tremaining: 437ms\n",
            "104:\tlearn: 0.4144468\ttotal: 234ms\tremaining: 435ms\n",
            "105:\tlearn: 0.4141967\ttotal: 238ms\tremaining: 435ms\n",
            "106:\tlearn: 0.4139060\ttotal: 241ms\tremaining: 434ms\n",
            "107:\tlearn: 0.4136810\ttotal: 243ms\tremaining: 432ms\n",
            "108:\tlearn: 0.4132714\ttotal: 245ms\tremaining: 430ms\n",
            "109:\tlearn: 0.4130730\ttotal: 248ms\tremaining: 428ms\n",
            "110:\tlearn: 0.4128262\ttotal: 250ms\tremaining: 425ms\n",
            "111:\tlearn: 0.4126382\ttotal: 252ms\tremaining: 423ms\n",
            "112:\tlearn: 0.4124252\ttotal: 254ms\tremaining: 421ms\n",
            "113:\tlearn: 0.4121977\ttotal: 256ms\tremaining: 418ms\n",
            "114:\tlearn: 0.4119964\ttotal: 258ms\tremaining: 416ms\n",
            "115:\tlearn: 0.4118230\ttotal: 261ms\tremaining: 414ms\n",
            "116:\tlearn: 0.4116522\ttotal: 263ms\tremaining: 411ms\n",
            "117:\tlearn: 0.4113896\ttotal: 265ms\tremaining: 409ms\n",
            "118:\tlearn: 0.4111799\ttotal: 267ms\tremaining: 407ms\n",
            "119:\tlearn: 0.4110352\ttotal: 270ms\tremaining: 405ms\n",
            "120:\tlearn: 0.4106542\ttotal: 272ms\tremaining: 402ms\n",
            "121:\tlearn: 0.4104877\ttotal: 274ms\tremaining: 400ms\n",
            "122:\tlearn: 0.4102794\ttotal: 276ms\tremaining: 398ms\n",
            "123:\tlearn: 0.4100834\ttotal: 278ms\tremaining: 395ms\n",
            "124:\tlearn: 0.4099090\ttotal: 280ms\tremaining: 393ms\n",
            "125:\tlearn: 0.4097190\ttotal: 283ms\tremaining: 390ms\n",
            "126:\tlearn: 0.4095567\ttotal: 285ms\tremaining: 388ms\n",
            "127:\tlearn: 0.4093562\ttotal: 287ms\tremaining: 386ms\n",
            "128:\tlearn: 0.4091972\ttotal: 289ms\tremaining: 383ms\n",
            "129:\tlearn: 0.4089811\ttotal: 291ms\tremaining: 381ms\n",
            "130:\tlearn: 0.4087894\ttotal: 294ms\tremaining: 379ms\n",
            "131:\tlearn: 0.4086353\ttotal: 296ms\tremaining: 376ms\n",
            "132:\tlearn: 0.4085130\ttotal: 298ms\tremaining: 374ms\n",
            "133:\tlearn: 0.4083814\ttotal: 300ms\tremaining: 372ms\n",
            "134:\tlearn: 0.4081204\ttotal: 302ms\tremaining: 369ms\n",
            "135:\tlearn: 0.4079801\ttotal: 304ms\tremaining: 367ms\n",
            "136:\tlearn: 0.4078276\ttotal: 307ms\tremaining: 365ms\n",
            "137:\tlearn: 0.4076762\ttotal: 309ms\tremaining: 363ms\n",
            "138:\tlearn: 0.4074146\ttotal: 312ms\tremaining: 361ms\n",
            "139:\tlearn: 0.4072842\ttotal: 314ms\tremaining: 359ms\n",
            "140:\tlearn: 0.4071949\ttotal: 316ms\tremaining: 357ms\n",
            "141:\tlearn: 0.4070466\ttotal: 318ms\tremaining: 354ms\n",
            "142:\tlearn: 0.4069071\ttotal: 320ms\tremaining: 352ms\n",
            "143:\tlearn: 0.4067645\ttotal: 322ms\tremaining: 349ms\n",
            "144:\tlearn: 0.4066634\ttotal: 325ms\tremaining: 347ms\n",
            "145:\tlearn: 0.4065271\ttotal: 327ms\tremaining: 345ms\n",
            "146:\tlearn: 0.4064289\ttotal: 329ms\tremaining: 342ms\n",
            "147:\tlearn: 0.4063414\ttotal: 331ms\tremaining: 340ms\n",
            "148:\tlearn: 0.4062213\ttotal: 333ms\tremaining: 338ms\n",
            "149:\tlearn: 0.4060591\ttotal: 335ms\tremaining: 335ms\n",
            "150:\tlearn: 0.4059284\ttotal: 337ms\tremaining: 333ms\n",
            "151:\tlearn: 0.4058341\ttotal: 340ms\tremaining: 331ms\n",
            "152:\tlearn: 0.4057511\ttotal: 342ms\tremaining: 328ms\n",
            "153:\tlearn: 0.4056421\ttotal: 344ms\tremaining: 326ms\n",
            "154:\tlearn: 0.4055070\ttotal: 346ms\tremaining: 324ms\n",
            "155:\tlearn: 0.4052858\ttotal: 348ms\tremaining: 321ms\n",
            "156:\tlearn: 0.4051820\ttotal: 350ms\tremaining: 319ms\n",
            "157:\tlearn: 0.4050961\ttotal: 352ms\tremaining: 317ms\n",
            "158:\tlearn: 0.4048881\ttotal: 355ms\tremaining: 314ms\n",
            "159:\tlearn: 0.4047765\ttotal: 357ms\tremaining: 312ms\n",
            "160:\tlearn: 0.4046447\ttotal: 359ms\tremaining: 310ms\n",
            "161:\tlearn: 0.4045445\ttotal: 361ms\tremaining: 307ms\n",
            "162:\tlearn: 0.4044366\ttotal: 363ms\tremaining: 305ms\n",
            "163:\tlearn: 0.4043549\ttotal: 365ms\tremaining: 303ms\n",
            "164:\tlearn: 0.4041678\ttotal: 367ms\tremaining: 301ms\n",
            "165:\tlearn: 0.4040694\ttotal: 369ms\tremaining: 298ms\n",
            "166:\tlearn: 0.4039898\ttotal: 372ms\tremaining: 296ms\n",
            "167:\tlearn: 0.4038690\ttotal: 374ms\tremaining: 294ms\n",
            "168:\tlearn: 0.4037833\ttotal: 376ms\tremaining: 291ms\n",
            "169:\tlearn: 0.4037064\ttotal: 378ms\tremaining: 289ms\n",
            "170:\tlearn: 0.4035868\ttotal: 380ms\tremaining: 287ms\n",
            "171:\tlearn: 0.4034253\ttotal: 382ms\tremaining: 285ms\n",
            "172:\tlearn: 0.4033372\ttotal: 384ms\tremaining: 282ms\n",
            "173:\tlearn: 0.4032545\ttotal: 387ms\tremaining: 280ms\n",
            "174:\tlearn: 0.4031735\ttotal: 390ms\tremaining: 279ms\n",
            "175:\tlearn: 0.4030009\ttotal: 395ms\tremaining: 278ms\n",
            "176:\tlearn: 0.4029350\ttotal: 397ms\tremaining: 276ms\n",
            "177:\tlearn: 0.4028405\ttotal: 399ms\tremaining: 274ms\n",
            "178:\tlearn: 0.4027692\ttotal: 402ms\tremaining: 272ms\n",
            "179:\tlearn: 0.4026813\ttotal: 404ms\tremaining: 269ms\n",
            "180:\tlearn: 0.4026160\ttotal: 406ms\tremaining: 267ms\n",
            "181:\tlearn: 0.4025515\ttotal: 408ms\tremaining: 265ms\n",
            "182:\tlearn: 0.4024784\ttotal: 410ms\tremaining: 262ms\n",
            "183:\tlearn: 0.4024163\ttotal: 413ms\tremaining: 260ms\n",
            "184:\tlearn: 0.4023006\ttotal: 415ms\tremaining: 258ms\n",
            "185:\tlearn: 0.4022343\ttotal: 417ms\tremaining: 256ms\n",
            "186:\tlearn: 0.4021455\ttotal: 419ms\tremaining: 253ms\n",
            "187:\tlearn: 0.4020431\ttotal: 421ms\tremaining: 251ms\n",
            "188:\tlearn: 0.4019720\ttotal: 424ms\tremaining: 249ms\n",
            "189:\tlearn: 0.4018872\ttotal: 426ms\tremaining: 247ms\n",
            "190:\tlearn: 0.4018132\ttotal: 428ms\tremaining: 244ms\n",
            "191:\tlearn: 0.4017448\ttotal: 430ms\tremaining: 242ms\n",
            "192:\tlearn: 0.4016754\ttotal: 432ms\tremaining: 240ms\n",
            "193:\tlearn: 0.4016024\ttotal: 435ms\tremaining: 237ms\n",
            "194:\tlearn: 0.4015188\ttotal: 437ms\tremaining: 235ms\n",
            "195:\tlearn: 0.4014150\ttotal: 439ms\tremaining: 233ms\n",
            "196:\tlearn: 0.4013586\ttotal: 441ms\tremaining: 231ms\n",
            "197:\tlearn: 0.4012804\ttotal: 443ms\tremaining: 228ms\n",
            "198:\tlearn: 0.4012185\ttotal: 445ms\tremaining: 226ms\n",
            "199:\tlearn: 0.4011735\ttotal: 448ms\tremaining: 224ms\n",
            "200:\tlearn: 0.4011122\ttotal: 450ms\tremaining: 221ms\n",
            "201:\tlearn: 0.4010703\ttotal: 452ms\tremaining: 219ms\n",
            "202:\tlearn: 0.4010225\ttotal: 454ms\tremaining: 217ms\n",
            "203:\tlearn: 0.4009728\ttotal: 456ms\tremaining: 215ms\n",
            "204:\tlearn: 0.4008967\ttotal: 458ms\tremaining: 212ms\n",
            "205:\tlearn: 0.4008272\ttotal: 460ms\tremaining: 210ms\n",
            "206:\tlearn: 0.4007624\ttotal: 463ms\tremaining: 208ms\n",
            "207:\tlearn: 0.4006504\ttotal: 465ms\tremaining: 206ms\n",
            "208:\tlearn: 0.4006063\ttotal: 467ms\tremaining: 204ms\n",
            "209:\tlearn: 0.4005694\ttotal: 470ms\tremaining: 201ms\n",
            "210:\tlearn: 0.4005194\ttotal: 472ms\tremaining: 199ms\n",
            "211:\tlearn: 0.4004708\ttotal: 474ms\tremaining: 197ms\n",
            "212:\tlearn: 0.4003500\ttotal: 476ms\tremaining: 194ms\n",
            "213:\tlearn: 0.4002991\ttotal: 478ms\tremaining: 192ms\n",
            "214:\tlearn: 0.4002236\ttotal: 481ms\tremaining: 190ms\n",
            "215:\tlearn: 0.4001736\ttotal: 483ms\tremaining: 188ms\n",
            "216:\tlearn: 0.4000779\ttotal: 485ms\tremaining: 186ms\n",
            "217:\tlearn: 0.4000014\ttotal: 488ms\tremaining: 184ms\n",
            "218:\tlearn: 0.3999286\ttotal: 490ms\tremaining: 181ms\n",
            "219:\tlearn: 0.3998846\ttotal: 493ms\tremaining: 179ms\n",
            "220:\tlearn: 0.3998313\ttotal: 500ms\tremaining: 179ms\n",
            "221:\tlearn: 0.3998006\ttotal: 504ms\tremaining: 177ms\n",
            "222:\tlearn: 0.3997614\ttotal: 507ms\tremaining: 175ms\n",
            "223:\tlearn: 0.3997239\ttotal: 510ms\tremaining: 173ms\n",
            "224:\tlearn: 0.3996341\ttotal: 513ms\tremaining: 171ms\n",
            "225:\tlearn: 0.3995981\ttotal: 515ms\tremaining: 169ms\n",
            "226:\tlearn: 0.3995334\ttotal: 518ms\tremaining: 166ms\n",
            "227:\tlearn: 0.3994362\ttotal: 520ms\tremaining: 164ms\n",
            "228:\tlearn: 0.3993914\ttotal: 523ms\tremaining: 162ms\n",
            "229:\tlearn: 0.3993034\ttotal: 526ms\tremaining: 160ms\n",
            "230:\tlearn: 0.3992137\ttotal: 528ms\tremaining: 158ms\n",
            "231:\tlearn: 0.3991661\ttotal: 531ms\tremaining: 156ms\n",
            "232:\tlearn: 0.3990949\ttotal: 533ms\tremaining: 153ms\n",
            "233:\tlearn: 0.3990478\ttotal: 536ms\tremaining: 151ms\n",
            "234:\tlearn: 0.3990129\ttotal: 538ms\tremaining: 149ms\n",
            "235:\tlearn: 0.3989304\ttotal: 540ms\tremaining: 147ms\n",
            "236:\tlearn: 0.3988796\ttotal: 543ms\tremaining: 144ms\n",
            "237:\tlearn: 0.3988207\ttotal: 545ms\tremaining: 142ms\n",
            "238:\tlearn: 0.3987813\ttotal: 547ms\tremaining: 140ms\n",
            "239:\tlearn: 0.3987473\ttotal: 550ms\tremaining: 137ms\n",
            "240:\tlearn: 0.3987109\ttotal: 552ms\tremaining: 135ms\n",
            "241:\tlearn: 0.3986644\ttotal: 554ms\tremaining: 133ms\n",
            "242:\tlearn: 0.3986002\ttotal: 557ms\tremaining: 131ms\n",
            "243:\tlearn: 0.3985636\ttotal: 559ms\tremaining: 128ms\n",
            "244:\tlearn: 0.3985107\ttotal: 561ms\tremaining: 126ms\n",
            "245:\tlearn: 0.3984675\ttotal: 564ms\tremaining: 124ms\n",
            "246:\tlearn: 0.3984355\ttotal: 566ms\tremaining: 121ms\n",
            "247:\tlearn: 0.3983911\ttotal: 568ms\tremaining: 119ms\n",
            "248:\tlearn: 0.3983446\ttotal: 570ms\tremaining: 117ms\n",
            "249:\tlearn: 0.3982960\ttotal: 572ms\tremaining: 114ms\n",
            "250:\tlearn: 0.3982366\ttotal: 574ms\tremaining: 112ms\n",
            "251:\tlearn: 0.3981983\ttotal: 577ms\tremaining: 110ms\n",
            "252:\tlearn: 0.3981424\ttotal: 579ms\tremaining: 107ms\n",
            "253:\tlearn: 0.3980635\ttotal: 581ms\tremaining: 105ms\n",
            "254:\tlearn: 0.3980130\ttotal: 584ms\tremaining: 103ms\n",
            "255:\tlearn: 0.3979784\ttotal: 589ms\tremaining: 101ms\n",
            "256:\tlearn: 0.3979335\ttotal: 592ms\tremaining: 99ms\n",
            "257:\tlearn: 0.3978490\ttotal: 594ms\tremaining: 96.8ms\n",
            "258:\tlearn: 0.3978035\ttotal: 597ms\tremaining: 94.4ms\n",
            "259:\tlearn: 0.3977523\ttotal: 599ms\tremaining: 92.1ms\n",
            "260:\tlearn: 0.3976853\ttotal: 601ms\tremaining: 89.8ms\n",
            "261:\tlearn: 0.3976386\ttotal: 603ms\tremaining: 87.5ms\n",
            "262:\tlearn: 0.3975839\ttotal: 606ms\tremaining: 85.3ms\n",
            "263:\tlearn: 0.3975486\ttotal: 608ms\tremaining: 82.9ms\n",
            "264:\tlearn: 0.3975125\ttotal: 610ms\tremaining: 80.6ms\n",
            "265:\tlearn: 0.3974895\ttotal: 613ms\tremaining: 78.3ms\n",
            "266:\tlearn: 0.3974339\ttotal: 615ms\tremaining: 76.1ms\n",
            "267:\tlearn: 0.3973906\ttotal: 618ms\tremaining: 73.8ms\n",
            "268:\tlearn: 0.3973119\ttotal: 620ms\tremaining: 71.5ms\n",
            "269:\tlearn: 0.3972644\ttotal: 623ms\tremaining: 69.2ms\n",
            "270:\tlearn: 0.3972303\ttotal: 625ms\tremaining: 66.9ms\n",
            "271:\tlearn: 0.3971773\ttotal: 627ms\tremaining: 64.6ms\n",
            "272:\tlearn: 0.3971400\ttotal: 629ms\tremaining: 62.2ms\n",
            "273:\tlearn: 0.3971027\ttotal: 631ms\tremaining: 59.9ms\n",
            "274:\tlearn: 0.3970581\ttotal: 634ms\tremaining: 57.6ms\n",
            "275:\tlearn: 0.3970227\ttotal: 636ms\tremaining: 55.3ms\n",
            "276:\tlearn: 0.3969749\ttotal: 638ms\tremaining: 53ms\n",
            "277:\tlearn: 0.3969332\ttotal: 640ms\tremaining: 50.6ms\n",
            "278:\tlearn: 0.3968998\ttotal: 642ms\tremaining: 48.3ms\n",
            "279:\tlearn: 0.3968597\ttotal: 644ms\tremaining: 46ms\n",
            "280:\tlearn: 0.3968264\ttotal: 647ms\tremaining: 43.7ms\n",
            "281:\tlearn: 0.3967862\ttotal: 649ms\tremaining: 41.4ms\n",
            "282:\tlearn: 0.3967458\ttotal: 651ms\tremaining: 39.1ms\n",
            "283:\tlearn: 0.3966999\ttotal: 653ms\tremaining: 36.8ms\n",
            "284:\tlearn: 0.3966568\ttotal: 656ms\tremaining: 34.5ms\n",
            "285:\tlearn: 0.3966162\ttotal: 658ms\tremaining: 32.2ms\n",
            "286:\tlearn: 0.3965798\ttotal: 660ms\tremaining: 29.9ms\n",
            "287:\tlearn: 0.3965207\ttotal: 662ms\tremaining: 27.6ms\n",
            "288:\tlearn: 0.3964799\ttotal: 664ms\tremaining: 25.3ms\n",
            "289:\tlearn: 0.3964433\ttotal: 667ms\tremaining: 23ms\n",
            "290:\tlearn: 0.3963973\ttotal: 669ms\tremaining: 20.7ms\n",
            "291:\tlearn: 0.3963618\ttotal: 671ms\tremaining: 18.4ms\n",
            "292:\tlearn: 0.3963262\ttotal: 673ms\tremaining: 16.1ms\n",
            "293:\tlearn: 0.3962850\ttotal: 675ms\tremaining: 13.8ms\n",
            "294:\tlearn: 0.3962510\ttotal: 677ms\tremaining: 11.5ms\n",
            "295:\tlearn: 0.3962232\ttotal: 680ms\tremaining: 9.18ms\n",
            "296:\tlearn: 0.3961960\ttotal: 682ms\tremaining: 6.88ms\n",
            "297:\tlearn: 0.3961239\ttotal: 684ms\tremaining: 4.59ms\n",
            "298:\tlearn: 0.3960984\ttotal: 686ms\tremaining: 2.29ms\n",
            "299:\tlearn: 0.3960651\ttotal: 688ms\tremaining: 0us\n"
          ],
          "name": "stdout"
        }
      ]
    }
  ]
}