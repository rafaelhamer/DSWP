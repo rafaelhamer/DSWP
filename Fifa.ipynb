{
  "nbformat": 4,
  "nbformat_minor": 0,
  "metadata": {
    "colab": {
      "name": "Fifa.ipynb",
      "provenance": [],
      "authorship_tag": "ABX9TyNlj5cw4dztdnXkwXJJjE/x",
      "include_colab_link": true
    },
    "kernelspec": {
      "name": "python3",
      "display_name": "Python 3"
    }
  },
  "cells": [
    {
      "cell_type": "markdown",
      "metadata": {
        "id": "view-in-github",
        "colab_type": "text"
      },
      "source": [
        "<a href=\"https://colab.research.google.com/github/rafaelhamer/DSWP/blob/master/Fifa.ipynb\" target=\"_parent\"><img src=\"https://colab.research.google.com/assets/colab-badge.svg\" alt=\"Open In Colab\"/></a>"
      ]
    },
    {
      "cell_type": "markdown",
      "metadata": {
        "id": "1Ttds5rgK_s1"
      },
      "source": [
        ""
      ]
    },
    {
      "cell_type": "markdown",
      "metadata": {
        "id": "TUVTlE9WYW8C"
      },
      "source": [
        "## Exercício 9\n",
        "O arquivo FIFA.csv contem dados relacionados à última edição do FIFA 2018 (um dos jogos de video-game mais famosos) e traz os mais variados dados sobre os jogadores (exemplo): idade, nacionalidade, potencial, salário e etc. Faça o seguinte:\n",
        "\n",
        "1. Carregue o arquivo FIFA.csv (está na área de Dataframes do curso);\n",
        "2. Que colunas podem previamente ser eliminadas da análise? Porque identificar o que pode ser eliminado é importante?\n",
        "3. Qual o dtype de cada variável/atributo do dataframe?\n",
        "4. Se alguma variávável/atributo é do tipo string (object) e supostamente deveria ser numérica, como alteramos o tipo?\n",
        "5. Normalize os nomes das colunas, ou seja, renomeie o nome das colunas para minúsculo;\n",
        "6Há Missing values nos dados? Se sim, o qual sua proposta (proposta do grupo) para tratar estes Missing values?\n",
        "7. Qual a distribuição do número de jogadores por países? Apresente uma tabela com a distribuição.\n",
        "8. Qual a média de idade dos jogadores por países (variável/atributo 'Nacionality');\n",
        "9. Qual a número de jogadores por idade?\n",
        "10. Quantos jogadores possuem cada clube?\n",
        "11. Qual a média de idade por clube?\n",
        "12. Qual a média de salário por país?\n",
        "13. Qual a média de salário por clube?\n",
        "14. Qual a média de salário por idade?\n",
        "15. Quanto cada clube gasta com pagamento de salários?\n",
        "16. Quais são os insight (o que você consegue descobrir) em relação à variável 'Potential' (mede o potencial dos jogadores)?\n",
        "17. Quais os insights em relação à variável overall (nota média do atleta) por idade, clube e país?\n",
        "18. Quais são os melhores clubes se levarmos em consideração as variáveis Potential e Overall?\n",
        "19. Apresente o ranking dos goleiros (use a variável/atributo 'Preferred Positions') por Potencial, Overall. Estamos à procura de 'GK'.\n",
        "20. Quem são os jogadores mais rápidos (variável/atributo 'Sprint speed'=?\n",
        "21. Quem são os 5 melhores jogadores em termos de chute (força para chutar) (use a variável/atributo 'Shot power')?\n",
        "22. Quem são os outliers em termos de salário?\n",
        "23. Quem são os outliers em termos de potência no chute?\n",
        "\n",
        "\n",
        "\n"
      ]
    },
    {
      "cell_type": "code",
      "metadata": {
        "id": "oB3sIG2WK-m6"
      },
      "source": [
        "import panda as pd\n",
        "\n",
        "df_fifa = df.read_csv('FIFA.csv')\n",
        "df_fifa.head()"
      ],
      "execution_count": null,
      "outputs": []
    }
  ]
}